{
 "cells": [
  {
   "cell_type": "markdown",
   "metadata": {
    "id": "QUANWN3rpfC9"
   },
   "source": [
    "# 0. Setup Paths"
   ]
  },
  {
   "cell_type": "code",
   "execution_count": null,
   "metadata": {},
   "outputs": [],
   "source": [
    "# 13 hr\n",
    "# my_faster_rcnn_resnet50_v1_640x640_coco17_tpu-8"
   ]
  },
  {
   "cell_type": "code",
   "execution_count": null,
   "metadata": {},
   "outputs": [],
   "source": [
    "# 13 hr\n",
    "# my_ssd_resnet50_v1_fpn_640x640_coco17_tpu-8"
   ]
  },
  {
   "cell_type": "code",
   "execution_count": null,
   "metadata": {},
   "outputs": [],
   "source": [
    "# ssd_mobilenet_v2_fpnlite_640x640_coco17_tpu-8"
   ]
  },
  {
   "cell_type": "code",
   "execution_count": null,
   "metadata": {},
   "outputs": [],
   "source": [
    "# not working\n",
    "# my_ssd_mobilenet_v2_320x320_coco17_tpu-8"
   ]
  },
  {
   "cell_type": "code",
   "execution_count": 1,
   "metadata": {
    "id": "146BB11JpfDA"
   },
   "outputs": [],
   "source": [
    "import os"
   ]
  },
  {
   "cell_type": "code",
   "execution_count": 2,
   "metadata": {
    "id": "42hJEdo_pfDB"
   },
   "outputs": [],
   "source": [
    "CUSTOM_MODEL_NAME = 'my_ssd_mobilenet_v2_fpnlite_320x320_coco17_tpu-8'\n",
    "PRETRAINED_MODEL_NAME = 'ssd_mobilenet_v2_fpnlite_320x320_coco17_tpu-8'\n",
    "# PRETRAINED_MODEL_URL = 'http://download.tensorflow.org/models/object_detection/tf2/20200711/ssd_mobilenet_v2_fpnlite_320x320_coco17_tpu-8.tar.gz'\n",
    "TF_RECORD_SCRIPT_NAME = 'generate_tfrecord.py'\n",
    "LABEL_MAP_NAME = 'label_map.pbtxt'"
   ]
  },
  {
   "cell_type": "code",
   "execution_count": 3,
   "metadata": {
    "id": "hbPhYVy_pfDB"
   },
   "outputs": [],
   "source": [
    "paths = {\n",
    "    'WORKSPACE_PATH': os.path.join('Tensorflow', 'workspace'),\n",
    "    'SCRIPTS_PATH': os.path.join('Tensorflow','scripts'),\n",
    "    'APIMODEL_PATH': os.path.join('Tensorflow','models'),\n",
    "    'ANNOTATION_PATH': os.path.join('Tensorflow', 'workspace','annotations'),\n",
    "    'IMAGE_PATH': os.path.join('Tensorflow', 'workspace','images'),\n",
    "    'MODEL_PATH': os.path.join('Tensorflow', 'workspace','models'),\n",
    "    'PRETRAINED_MODEL_PATH': os.path.join('Tensorflow', 'workspace','pre-trained-models'),\n",
    "    'CHECKPOINT_PATH': os.path.join('Tensorflow', 'workspace','models',CUSTOM_MODEL_NAME), \n",
    "    'OUTPUT_PATH': os.path.join('Tensorflow', 'workspace','models',CUSTOM_MODEL_NAME, 'export'), \n",
    "    'TFJS_PATH':os.path.join('Tensorflow', 'workspace','models',CUSTOM_MODEL_NAME, 'tfjsexport'), \n",
    "    'TFLITE_PATH':os.path.join('Tensorflow', 'workspace','models',CUSTOM_MODEL_NAME, 'tfliteexport'), \n",
    "    'PROTOC_PATH':os.path.join('Tensorflow','protoc')\n",
    " }"
   ]
  },
  {
   "cell_type": "code",
   "execution_count": 4,
   "metadata": {
    "id": "LwhWZMI0pfDC"
   },
   "outputs": [],
   "source": [
    "files = {\n",
    "    'PIPELINE_CONFIG':os.path.join('Tensorflow', 'workspace','models', CUSTOM_MODEL_NAME, 'pipeline.config'),\n",
    "    'TF_RECORD_SCRIPT': os.path.join(paths['SCRIPTS_PATH'], TF_RECORD_SCRIPT_NAME), \n",
    "    'LABELMAP': os.path.join(paths['ANNOTATION_PATH'], LABEL_MAP_NAME)\n",
    "}"
   ]
  },
  {
   "cell_type": "code",
   "execution_count": 5,
   "metadata": {},
   "outputs": [],
   "source": [
    "try:\n",
    "    os.makedirs(paths['WORKSPACE_PATH'])\n",
    "    os.makedirs(paths['SCRIPTS_PATH'])\n",
    "    os.makedirs(paths['APIMODEL_PATH'])\n",
    "    os.makedirs(paths['ANNOTATION_PATH'])\n",
    "    os.makedirs(paths['IMAGE_PATH'])\n",
    "    os.makedirs(paths['MODEL_PATH'])\n",
    "    os.makedirs(paths['PRETRAINED_MODEL_PATH'])\n",
    "\n",
    "except:\n",
    "    pass"
   ]
  },
  {
   "cell_type": "markdown",
   "metadata": {},
   "source": [
    "# get dataset"
   ]
  },
  {
   "cell_type": "code",
   "execution_count": 6,
   "metadata": {
    "scrolled": false
   },
   "outputs": [],
   "source": [
    "# ! git clone https://github.com/Ala-Alsanea/sketch_web_ui_dataset.git {paths['IMAGE_PATH']}"
   ]
  },
  {
   "cell_type": "code",
   "execution_count": 22,
   "metadata": {
    "scrolled": true
   },
   "outputs": [
    {
     "name": "stdout",
     "output_type": "stream",
     "text": [
      "2023-05-10 12:30:10.861589: I tensorflow/core/platform/cpu_feature_guard.cc:182] This TensorFlow binary is optimized to use available CPU instructions in performance-critical operations.\n",
      "To enable the following instructions: AVX2 FMA, in other operations, rebuild TensorFlow with the appropriate compiler flags.\n",
      "2023-05-10 12:30:11.871590: W tensorflow/compiler/tf2tensorrt/utils/py_utils.cc:38] TF-TRT Warning: Could not find TensorRT\n",
      "Tensorflow/workspace/images\n",
      "dataset_roboflow/train/00021_png.rf.f33255cfe99ce33a5b61c360f67a8c58.jpg\n",
      "dataset_roboflow/train/image_38_png.rf.e69ffcc3c101dd4cf1a1f50d8389da52.jpg\n",
      "dataset_roboflow/valid/image_74_png.rf.52beed189736dbe45515e7820607e606.jpg\n",
      "dataset_roboflow/new_train/00034_png.rf.cdaed64c2e2f8fe839439f6c387436e5.jpg\n",
      "dataset_roboflow/new_train/image_161_png.rf.cfd20b4fe1695e91f26646da22150381.jpg\n",
      "dataset_roboflow/new_train/image_97_png.rf.82f9aba938949bedc9318178f2d42292.jpg\n",
      "dataset_roboflow/train/image_36_png.rf.cf8a6d8e41936d90a3ea6d59052cc4e5.jpg\n",
      "dataset_roboflow/new_train/image_91_png.rf.6153c5683671b88991c985917573bc58.jpg\n",
      "dataset_roboflow/train/image_182_png.rf.6a6b8609bedf8aedb3fb4208b3231579.jpg\n",
      "dataset_roboflow/new_train/image_108_png.rf.81a586ab7642048a8fe556320feb4af2.jpg\n",
      "dataset_roboflow/train/image_55_png.rf.3f895c00b966af76d1057ee8f2218ace.jpg\n",
      "dataset_roboflow/train/image_107_png.rf.f48cbcdeaf88cb6aad0a97358d70e81c.jpg\n",
      "dataset_roboflow/train/image_200_png.rf.35c299086ff7729f94fae9568a574896.jpg\n",
      "dataset_roboflow/new_train/image_33_png.rf.fe8b19f24e44d6a41db65138da6cd737.jpg\n",
      "dataset_roboflow/new_train/image_202_png.rf.01f0df305d69b6519ee85f0448e418ee.jpg\n",
      "dataset_roboflow/train/image_43_png.rf.74a956a0efad2932b9489d1a8b45d6d1.jpg\n",
      "dataset_roboflow/train/image_190_png.rf.e3b0149ab77cc4b23fcf52709e79f9cc.jpg\n",
      "dataset_roboflow/new_train/image_188_png.rf.c2224e1799eeda9db177cc67e12b010d.jpg\n",
      "dataset_roboflow/train/image_45_png.rf.b96a67763fc9ac2ce5cf8b8a3bc301dd.jpg\n",
      "dataset_roboflow/train/image_185_png.rf.2bb26250021e21e283d8a92d420870a2.jpg\n",
      "dataset_roboflow/new_train/00012_png.rf.e5714e1bbdda26136d34d571aee5b2eb.jpg\n",
      "dataset_roboflow/train/00004_png.rf.ca684ae59d6f64243191968d04714a9f.jpg\n",
      "dataset_roboflow/valid/image_180_png.rf.334b193daf2ab65f8621d9ce6a2be5f6.jpg\n",
      "dataset_roboflow/train/image_16_png.rf.1fe01f97efc9b35137682a5b9ffbeee3.jpg\n",
      "dataset_roboflow/train/image_68_png.rf.4b9bd684a373e218ae5cc693ab20d8e2.jpg\n",
      "dataset_roboflow/train/image_24_png.rf.bbeef022903fc65084371c83e8438c9f.jpg\n",
      "dataset_roboflow/new_train/image_48_png.rf.06700111974984003fda2562dcdc8061.jpg\n",
      "dataset_roboflow/new_train/00023_png.rf.3f1cb893185cd392e8c7c86fa0c1c380.jpg\n",
      "dataset_roboflow/train/image_173_png.rf.d62ac9cd6e840688b1326a56fb4dcf14.jpg\n",
      "dataset_roboflow/new_train/image_53_png.rf.2a2380f001e0562134300362202c6a5c.jpg\n",
      "dataset_roboflow/new_train/image_39_png.rf.04c788edb4426a597353f2ce7ebbe461.jpg\n",
      "dataset_roboflow/new_train/image_131_png.rf.30cd35691e523cf75b6cff4b23bc57fe.jpg\n",
      "dataset_roboflow/new_train/image_177_png.rf.b136ad653ef90cf62cdb826fb403ebcc.jpg\n",
      "dataset_roboflow/train/image_51_png.rf.fe956a7fbceae6b08a1c5445b65659fe.jpg\n",
      "dataset_roboflow/train/images_20_png.rf.beaadf0a2525b7134c830bdeea939426.jpg\n",
      "dataset_roboflow/valid/image_144_png.rf.73cd4e5d293f3f3f0fd8844ccd5d8225.jpg\n",
      "dataset_roboflow/train/image_154_png.rf.27db955ea6dda0859821b5b5a29fa38c.jpg\n",
      "dataset_roboflow/train/image_148_png.rf.21071e96cda8920691791071deaf94f4.jpg\n",
      "dataset_roboflow/train/image_54_png.rf.e921db3b7ecbca0e181de86af22af38a.jpg\n",
      "dataset_roboflow/new_train/image_38_png.rf.e69ffcc3c101dd4cf1a1f50d8389da52.jpg\n",
      "dataset_roboflow/train/image_132_png.rf.69fb067a89ff770313aa02e1e230dd3f.jpg\n",
      "dataset_roboflow/train/image_0_png.rf.e5f9c2088c9e4544ddea907870d00bba.jpg\n",
      "dataset_roboflow/new_train/image_70_png.rf.6972351c84fcb4896d0b86a6e128cb35.jpg\n",
      "dataset_roboflow/accpted_classes.csv\n",
      "dataset_roboflow/new_train/image_186_png.rf.4b1ba5048648d2d9b707273ef4615b1d.jpg\n",
      "dataset_roboflow/new_train/image_85_png.rf.4595d6acd669ca33d00c05eaee70cdcd.jpg\n",
      "dataset_roboflow/train/image_94_png.rf.456323ee4595395cd06a92b309fa6a94.jpg\n",
      "dataset_roboflow/train/image_120_png.rf.fd2769205414dbeac9c28945bd26f99e.jpg\n",
      "dataset_roboflow/new_train/image_168_png.rf.b0bc0b77cc03400aebbfc682fa3d6426.jpg\n",
      "dataset_roboflow/train/image_110_png.rf.25977e6504ec0726c35f7a9dfd745f5f.jpg\n",
      "dataset_roboflow/train/images_12_png.rf.387ec5af908dcae46e520a8ef6648508.jpg\n",
      "dataset_roboflow/new_train/images_8_png.rf.149b74e89797121bbb3e8b6e57a29ca9.jpg\n",
      "dataset_roboflow/train/image_178_png.rf.1dd38bd39620fa32cb346dc5ab9ab9d1.jpg\n",
      "dataset_roboflow/train/image_2_png.rf.3f1113d6a15e907d65742cd2e90a4c97.jpg\n",
      "dataset_roboflow/train/image_127_png.rf.8f892ad8ef72abef97a2bf45ad162005.jpg\n",
      "dataset_roboflow/new_train/image_104_png.rf.a44efdccf7472beec04491916a5b1eba.jpg\n",
      "dataset_roboflow/train/image_118_png.rf.8c91dc73f2a26ed50e98436d95e99d36.jpg\n",
      "dataset_roboflow/new_train/image_45_png.rf.b96a67763fc9ac2ce5cf8b8a3bc301dd.jpg\n",
      "dataset_roboflow/train/00012_png.rf.e5714e1bbdda26136d34d571aee5b2eb.jpg\n",
      "dataset_roboflow/train/image_138_png.rf.4b6a988f799f253607bf8fba31c29969.jpg\n",
      "dataset_roboflow/new_train/image_141_png.rf.03ad1c87cb54ef4ac6075bd606e7c38b.jpg\n",
      "dataset_roboflow/new_train/image_49_png.rf.f630a08315a3e8d6bffaf50d483711c9.jpg\n",
      "dataset_roboflow/train/image_17_png.rf.ab40f21341eb9c0360aa46b0cbbe5cc0.jpg\n",
      "dataset_roboflow/new_train/00010_png.rf.ed049aa67c8121919d506c94ebb46711.jpg\n",
      "dataset_roboflow/new_train/image_151_png.rf.47bc031e605fc0b3183a05d3663cba4d.jpg\n",
      "dataset_roboflow/new_train/image_160_png.rf.a602a4fa5a216b5b9eda1f60d9852874.jpg\n",
      "dataset_roboflow/train/00034_png.rf.cdaed64c2e2f8fe839439f6c387436e5.jpg\n",
      "dataset_roboflow/train/image_106_png.rf.47b5dba5783266add9dd6b4641d5bc6e.jpg\n",
      "dataset_roboflow/train/image_142_png.rf.400ef82937429f403729039d316b76c6.jpg\n",
      "dataset_roboflow/train/image_103_png.rf.79efa5dd971c10ed5f8f798ea05d787d.jpg\n",
      "dataset_roboflow/new_train/image_34_png.rf.5859fcea97b2f7a64b79544ea8a68fde.jpg\n",
      "dataset_roboflow/train/image_115_png.rf.7bf4c5a97e8f9eaa384ba98a020dedfc.jpg\n",
      "dataset_roboflow/train/image_149_png.rf.72eda11e4a9c13ad9870043e6f916bfd.jpg\n",
      "dataset_roboflow/new_train/image_200_png.rf.35c299086ff7729f94fae9568a574896.jpg\n",
      "dataset_roboflow/new_train/00027_png.rf.051c242efd7c63dbc96a34fdfc9e8499.jpg\n",
      "dataset_roboflow/new_train/image_65_png.rf.e3218cec368b8116517298850b15d964.jpg\n",
      "dataset_roboflow/train/image_31_png.rf.ad3c348be7130f741b2d841f3a7ac0d8.jpg\n",
      "dataset_roboflow/train/image_134_png.rf.3ea7cc9c359da365e498d8255ada330f.jpg\n",
      "dataset_roboflow/new_train/image_51_png.rf.fe956a7fbceae6b08a1c5445b65659fe.jpg\n",
      "dataset_roboflow/valid/\n",
      "dataset_roboflow/new_train/image_125_png.rf.c04fbdbbd7fdd4e23290345f85b3e732.jpg\n",
      "dataset_roboflow/new_train/image_67_png.rf.cb5577c78140cfd39f1d50eab8c14810.jpg\n",
      "dataset_roboflow/new_train/image_68_png.rf.4b9bd684a373e218ae5cc693ab20d8e2.jpg\n",
      "dataset_roboflow/new_train/image_82_png.rf.1da2f834eda242ec9ebd6ed1feae8154.jpg\n",
      "dataset_roboflow/valid/image_91_png.rf.6153c5683671b88991c985917573bc58.jpg\n",
      "dataset_roboflow/new_train/image_198_png.rf.7bf38b73e026959c122edf31c4aee90e.jpg\n",
      "dataset_roboflow/new_trainannotations.csv\n",
      "dataset_roboflow/new_train/image_105_png.rf.e8222b2464461ffc35f9147bb99338df.jpg\n",
      "dataset_roboflow/new_train/image_43_png.rf.74a956a0efad2932b9489d1a8b45d6d1.jpg\n",
      "dataset_roboflow/new_train/images_14_png.rf.2e1996b917db3d4b700281e4223384a1.jpg\n",
      "dataset_roboflow/train/image_203_png.rf.f5a6ff1987e0dad8b84aba5074e3f2d8.jpg\n",
      "dataset_roboflow/test/image_166_png.rf.1a7c311ff90164d0f2bf0a71cd608565.jpg\n",
      "dataset_roboflow/train/image_136_png.rf.1f34a7e25339d7dd4a66283c57f4525c.jpg\n",
      "dataset_roboflow/new_train/00033_png.rf.059190b554c8273dae6620c31a6788c3.jpg\n",
      "dataset_roboflow/new_train/image_119_png.rf.b9067cff9dea9d3d8c619c67b90ae652.jpg\n",
      "dataset_roboflow/train/image_76_png.rf.bd209e65474a1ea81adc1625dafc39a8.jpg\n",
      "dataset_roboflow/new_train/image_185_png.rf.2bb26250021e21e283d8a92d420870a2.jpg\n",
      "dataset_roboflow/train/image_46_png.rf.f9abfe5ff174f3d7c7b10f886f058109.jpg\n",
      "dataset_roboflow/new_train/image_112_png.rf.e7f438ac72a1aef948032a8625602086.jpg\n",
      "dataset_roboflow/new_train/image_72_png.rf.fa93536622b7a7d83b8089445f0f43d2.jpg\n",
      "dataset_roboflow/train/image_191_png.rf.677a876097ffb9ab66967e712c026dff.jpg\n",
      "dataset_roboflow/train/image_102_png.rf.59015d1c5d657dbffc1e37a53afde2b9.jpg\n",
      "dataset_roboflow/new_train/image_44_png.rf.e5399c02716abc884314267be0707872.jpg\n",
      "dataset_roboflow/new_train/image_17_png.rf.ab40f21341eb9c0360aa46b0cbbe5cc0.jpg\n",
      "dataset_roboflow/train/image_201_png.rf.17cb62984debabb64c32a272a495a6b7.jpg\n",
      "dataset_roboflow/new_train/00035_png.rf.66fe066ba6bc9fee5eb4807723f3b401.jpg\n",
      "dataset_roboflow/new_train/image_173_png.rf.d62ac9cd6e840688b1326a56fb4dcf14.jpg\n",
      "dataset_roboflow/valid/image_53_png.rf.2a2380f001e0562134300362202c6a5c.jpg\n",
      "dataset_roboflow/train/image_97_png.rf.82f9aba938949bedc9318178f2d42292.jpg\n",
      "dataset_roboflow/new_train/image_154_png.rf.27db955ea6dda0859821b5b5a29fa38c.jpg\n",
      "dataset_roboflow/.ipynb_checkpoints/tools-checkpoint.ipynb\n",
      "dataset_roboflow/tools.ipynb\n",
      "dataset_roboflow/new_train/00007_png.rf.81264a2f50265f4f2bbe9e0982dec718.jpg\n",
      "dataset_roboflow/train/image_33_png.rf.fe8b19f24e44d6a41db65138da6cd737.jpg\n",
      "dataset_roboflow/new_train/image_148_png.rf.21071e96cda8920691791071deaf94f4.jpg\n",
      "dataset_roboflow/train/image_49_png.rf.f630a08315a3e8d6bffaf50d483711c9.jpg\n",
      "dataset_roboflow/new_train/image_31_png.rf.ad3c348be7130f741b2d841f3a7ac0d8.jpg\n",
      "dataset_roboflow/new_train/image_117_png.rf.26c32f75a554a987d319c2d8e3ce09cd.jpg\n",
      "dataset_roboflow/new_train/image_3_png.rf.cc2c88eced22cc3d8d6aedf240344011.jpg\n",
      "dataset_roboflow/valid/00033_png.rf.059190b554c8273dae6620c31a6788c3.jpg\n",
      "dataset_roboflow/train/image_157_png.rf.25f4ca2d300bf8ba063bd65a0184d341.jpg\n",
      "dataset_roboflow/new_train/00018_png.rf.ca1c46d1806bcfdb955d0ec2f5ebc93a.jpg\n",
      "dataset_roboflow/valid/image_198_png.rf.7bf38b73e026959c122edf31c4aee90e.jpg\n",
      "dataset_roboflow/train/image_139_png.rf.80130f9de11a105ad496dffaf2101015.jpg\n",
      "dataset_roboflow/new_train/image_113_png.rf.2e8877153058922337bf4f8fc94aae3c.jpg\n",
      "dataset_roboflow/new_train/image_120_png.rf.fd2769205414dbeac9c28945bd26f99e.jpg\n",
      "dataset_roboflow/new_train/images_12_png.rf.387ec5af908dcae46e520a8ef6648508.jpg\n",
      "dataset_roboflow/new_train/image_93_png.rf.5ec8d17d5e27f6d6f84f1e1771f28d0e.jpg\n",
      "dataset_roboflow/train/image_169_png.rf.a5718699c9d658f1c3be0b6e1d206563.jpg\n",
      "dataset_roboflow/new_train/image_178_png.rf.1dd38bd39620fa32cb346dc5ab9ab9d1.jpg\n",
      "dataset_roboflow/train/00009_png.rf.012ebaf23980e28cf41b1be064309889.jpg\n",
      "dataset_roboflow/new_train/image_146_png.rf.0e0c7f7346f9585ab3162ddf60f4129b.jpg\n",
      "dataset_roboflow/train/image_152_png.rf.8861dfc216cef1a4e0be794908a3b7e1.jpg\n",
      "dataset_roboflow/train/image_159_png.rf.3db5d3d347bf9e1bb427cd8992dfa406.jpg\n",
      "dataset_roboflow/new_train/image_118_png.rf.8c91dc73f2a26ed50e98436d95e99d36.jpg\n",
      "dataset_roboflow/train/image_88_png.rf.2a0f102ad4a388a1caf1a8bcc41bc28f.jpg\n",
      "dataset_roboflow/train/image_197_png.rf.cd960914eb76c762e6cb64e943df07fb.jpg\n",
      "dataset_roboflow/new_train/image_18_png.rf.46f81e510004c8fb1ae49515ada049b3.jpg\n",
      "dataset_roboflow/\n",
      "dataset_roboflow/new_train/image_110_png.rf.25977e6504ec0726c35f7a9dfd745f5f.jpg\n",
      "dataset_roboflow/train/00027_png.rf.051c242efd7c63dbc96a34fdfc9e8499.jpg\n",
      "dataset_roboflow/.ipynb_checkpoints/label_preprocess_for_trainingSet_and_valSet-checkpoint.ipynb\n",
      "dataset_roboflow/new_train/image_46_png.rf.f9abfe5ff174f3d7c7b10f886f058109.jpg\n",
      "dataset_roboflow/train/image_164_png.rf.8b7d30591ae97dbe147928429a8fbd78.jpg\n",
      "dataset_roboflow/train/image_77_png.rf.f2efa903e706058bcb9c3c9870e15ab0.jpg\n",
      "dataset_roboflow/train/image_85_png.rf.4595d6acd669ca33d00c05eaee70cdcd.jpg\n",
      "dataset_roboflow/valid/00018_png.rf.ca1c46d1806bcfdb955d0ec2f5ebc93a.jpg\n",
      "dataset_roboflow/train/images_8_png.rf.149b74e89797121bbb3e8b6e57a29ca9.jpg\n",
      "dataset_roboflow/new_train/image_174_png.rf.d69d977bb9886e8816f1c2c9e4cb3c4d.jpg\n",
      "dataset_roboflow/new_train/00006_png.rf.45899b16808a011685fd656dfa94a2cd.jpg\n",
      "dataset_roboflow/train/image_170_png.rf.f2f08ad86240a4ef89d3d6846df71569.jpg\n",
      "dataset_roboflow/new_train/image_35_png.rf.9088aabf057d487fc6ac31026a691a61.jpg\n",
      "dataset_roboflow/train/image_73_png.rf.817393c9dacaa32673e0914967da1805.jpg\n",
      "dataset_roboflow/valid/image_117_png.rf.26c32f75a554a987d319c2d8e3ce09cd.jpg\n",
      "dataset_roboflow/new_train/image_73_png.rf.817393c9dacaa32673e0914967da1805.jpg\n",
      "dataset_roboflow/new_train/00026_png.rf.0514b4ecfc5cf47ec2f81efd78a5bdcf.jpg\n",
      "dataset_roboflow/new_train/image_103_png.rf.79efa5dd971c10ed5f8f798ea05d787d.jpg\n",
      "dataset_roboflow/new_train/image_134_png.rf.3ea7cc9c359da365e498d8255ada330f.jpg\n",
      "dataset_roboflow/train/00026_png.rf.0514b4ecfc5cf47ec2f81efd78a5bdcf.jpg\n",
      "dataset_roboflow/new_train/image_142_png.rf.400ef82937429f403729039d316b76c6.jpg\n",
      "dataset_roboflow/new_train/image_122_png.rf.5c60e3a431e6256b9ef18db629c455ff.jpg\n",
      "dataset_roboflow/new_train/00025_png.rf.101eeb39bbd7534bd0d8c2984bf589f8.jpg\n",
      "dataset_roboflow/new_train/image_66_png.rf.3ce2a636d180906f7c09c8202f90f5b1.jpg\n",
      "dataset_roboflow/new_train/image_115_png.rf.7bf4c5a97e8f9eaa384ba98a020dedfc.jpg\n",
      "dataset_roboflow/new_train/image_83_png.rf.6cc9b30a61534d606877f35883890efc.jpg\n",
      "dataset_roboflow/new_train/image_127_png.rf.8f892ad8ef72abef97a2bf45ad162005.jpg\n"
     ]
    },
    {
     "name": "stdout",
     "output_type": "stream",
     "text": [
      "dataset_roboflow/new_train/image_40_png.rf.3a80a70460358fe194547e90f4ebfb08.jpg\r\n",
      "dataset_roboflow/new_train/image_203_png.rf.f5a6ff1987e0dad8b84aba5074e3f2d8.jpg\r\n",
      "dataset_roboflow/new_train/images_4_png.rf.d1f6a8a15acf02f749273257a52a01c7.jpg\r\n",
      "dataset_roboflow/new_train/image_136_png.rf.1f34a7e25339d7dd4a66283c57f4525c.jpg\r\n",
      "dataset_roboflow/train/00035_png.rf.66fe066ba6bc9fee5eb4807723f3b401.jpg\r\n",
      "dataset_roboflow/train/image_165_png.rf.d5fae97a3d6eabf148b83a9f1b01912f.jpg\r\n",
      "dataset_roboflow/train/00007_png.rf.81264a2f50265f4f2bbe9e0982dec718.jpg\r\n",
      "dataset_roboflow/test/image_167_png.rf.4cd5c246559f42488b893c33c094b228.jpg\r\n",
      "dataset_roboflow/train/image_44_png.rf.e5399c02716abc884314267be0707872.jpg\r\n",
      "dataset_roboflow/new_train/image_1_png.rf.5d188e903b4d976800a1808a02479bae.jpg\r\n",
      "dataset_roboflow/train/image_34_png.rf.5859fcea97b2f7a64b79544ea8a68fde.jpg\r\n",
      "dataset_roboflow/train/image_155_png.rf.64326c024437d67bea2775507e02f787.jpg\r\n",
      "dataset_roboflow/new_train/image_116_png.rf.00fd33c7ccec3f023731356593132b1a.jpg\r\n",
      "dataset_roboflow/train/image_109_png.rf.a0421b2c965d1977cdf76383066b017f.jpg\r\n",
      "dataset_roboflow/train/image_100_png.rf.7a920f3e19af6e258e7204892e334434.jpg\r\n",
      "dataset_roboflow/new_train/image_0_png.rf.e5f9c2088c9e4544ddea907870d00bba.jpg\r\n",
      "dataset_roboflow/.ipynb_checkpoints/\r\n",
      "dataset_roboflow/README.roboflow.txt\r\n",
      "dataset_roboflow/train/image_67_png.rf.cb5577c78140cfd39f1d50eab8c14810.jpg\r\n",
      "dataset_roboflow/train/image_75_png.rf.66eb55ef946ae760c8c3ccd1d95ab2a6.jpg\r\n",
      "dataset_roboflow/train/image_124_png.rf.bc3b32c9dff56bbb26ec8b6fd0c48900.jpg\r\n",
      "dataset_roboflow/new_train/image_123_png.rf.455003849a43a2682cf40e1b6297fa67.jpg\r\n",
      "dataset_roboflow/train/image_82_png.rf.1da2f834eda242ec9ebd6ed1feae8154.jpg\r\n",
      "dataset_roboflow/train/image_192_png.rf.ee9186340852392c27710c9c7909580e.jpg\r\n",
      "dataset_roboflow/new_train/image_133_png.rf.2ea217d727171a95488d2f75525522f2.jpg\r\n",
      "dataset_roboflow/new_train/image_189_png.rf.e9c1959bb6e58ddd9d54449995807d9b.jpg\r\n",
      "dataset_roboflow/test/_annotations.csv\r\n",
      "dataset_roboflow/new_train/image_139_png.rf.80130f9de11a105ad496dffaf2101015.jpg\r\n",
      "dataset_roboflow/train/image_196_png.rf.cfb410ceb0985e5af27f0bd7984692d9.jpg\r\n",
      "dataset_roboflow/new_train/image_162_png.rf.459b1aa412592e6544a19d098c7ee554.jpg\r\n",
      "dataset_roboflow/train/image_150_png.rf.5e16435a3170bf25609325e710c2cead.jpg\r\n",
      "dataset_roboflow/new_train/image_77_png.rf.f2efa903e706058bcb9c3c9870e15ab0.jpg\r\n",
      "dataset_roboflow/new_train/image_96_png.rf.cdf8e9e23278c8501b960bbca936ff0b.jpg\r\n",
      "dataset_roboflow/new_train/image_176_png.rf.1d142b84a407dc9728627c3598624195.jpg\r\n",
      "dataset_roboflow/test/image_92_png.rf.5826277764057ab0eb4c61c1fd848b56.jpg\r\n",
      "dataset_roboflow/new_train/images_2_png.rf.ae386904d0d9eeeeb4c431f1c23b10e5.jpg\r\n",
      "dataset_roboflow/new_train/image_57_png.rf.794b6ed8d92e456785962098e07191ca.jpg\r\n",
      "dataset_roboflow/train/image_72_png.rf.fa93536622b7a7d83b8089445f0f43d2.jpg\r\n",
      "dataset_roboflow/README.dataset.txt\r\n",
      "dataset_roboflow/new_train/image_143_png.rf.50f42c05de6d0b7e2f28b0867d20ced6.jpg\r\n",
      "dataset_roboflow/new_train/00021_png.rf.f33255cfe99ce33a5b61c360f67a8c58.jpg\r\n",
      "dataset_roboflow/new_train/image_152_png.rf.8861dfc216cef1a4e0be794908a3b7e1.jpg\r\n",
      "dataset_roboflow/train/00006_png.rf.45899b16808a011685fd656dfa94a2cd.jpg\r\n",
      "dataset_roboflow/new_train/00009_png.rf.012ebaf23980e28cf41b1be064309889.jpg\r\n",
      "dataset_roboflow/new_train/image_159_png.rf.3db5d3d347bf9e1bb427cd8992dfa406.jpg\r\n",
      "dataset_roboflow/train/image_121_png.rf.198bad83011a284c8c4ddc6acf2a4661.jpg\r\n",
      "dataset_roboflow/train/image_137_png.rf.033c4c38e87a4bc5ec12a2f89c437524.jpg\r\n",
      "dataset_roboflow/new_train/image_197_png.rf.cd960914eb76c762e6cb64e943df07fb.jpg\r\n",
      "dataset_roboflow/new_train/image_71_png.rf.f89064c2a4c10c71b258f1af3aeec4cc.jpg\r\n",
      "dataset_roboflow/new_train/image_98_png.rf.b45fe0b0188010f1c6a68723ac19d3b9.jpg\r\n",
      "dataset_roboflow/new_train/image_88_png.rf.2a0f102ad4a388a1caf1a8bcc41bc28f.jpg\r\n",
      "dataset_roboflow/new_train/image_89_png.rf.d0f2b62b4e24991c4be0cc72c1c41d2a.jpg\r\n",
      "dataset_roboflow/new_train/00020_png.rf.f706f299f764794d0e8f009c36d1398e.jpg\r\n",
      "dataset_roboflow/new_train/images_6_png.rf.f1213d6d76b07f22dba37b4233c38670.jpg\r\n",
      "dataset_roboflow/new_train/image_163_png.rf.9e57c12be79b5cd20a70a3d8723598f0.jpg\r\n",
      "dataset_roboflow/new_train/image_50_png.rf.186df59b4950d5296136072505e550e9.jpg\r\n",
      "dataset_roboflow/train/image_172_png.rf.4ce43fdfe42885d3cc29f5d0c6b84c36.jpg\r\n",
      "dataset_roboflow/train/image_175_png.rf.6ae413c5ccbc13d1fc6d48c193d66f1f.jpg\r\n",
      "dataset_roboflow/test/\r\n",
      "dataset_roboflow/train/image_156_png.rf.011f6132890853b053990cca78e32423.jpg\r\n",
      "dataset_roboflow/train/image_140_png.rf.ece213c7176078ec5e8d0920e7cede94.jpg\r\n",
      "dataset_roboflow/train/00025_png.rf.101eeb39bbd7534bd0d8c2984bf589f8.jpg\r\n",
      "dataset_roboflow/valid/image_189_png.rf.e9c1959bb6e58ddd9d54449995807d9b.jpg\r\n",
      "dataset_roboflow/train/image_18_png.rf.46f81e510004c8fb1ae49515ada049b3.jpg\r\n",
      "dataset_roboflow/new_train/00022_png.rf.e130b45ccb36b15451f543f6549ba160.jpg\r\n",
      "dataset_roboflow/new_train/image_182_png.rf.6a6b8609bedf8aedb3fb4208b3231579.jpg\r\n",
      "dataset_roboflow/new_train/images_0_png.rf.acdd34c4b788cbd9cddcdeb9c54f1bdd.jpg\r\n",
      "dataset_roboflow/train/image_158_png.rf.02c1ea65413a4ea61c03b43a33017e43.jpg\r\n",
      "dataset_roboflow/new_train/image_107_png.rf.f48cbcdeaf88cb6aad0a97358d70e81c.jpg\r\n",
      "dataset_roboflow/new_train/image_75_png.rf.66eb55ef946ae760c8c3ccd1d95ab2a6.jpg\r\n",
      "dataset_roboflow/new_train/image_60_png.rf.c8e31a6755df3b2efd5fb6bcb2813bad.jpg\r\n",
      "dataset_roboflow/new_train/image_190_png.rf.e3b0149ab77cc4b23fcf52709e79f9cc.jpg\r\n",
      "dataset_roboflow/train/_annotations.csv\r\n",
      "dataset_roboflow/new_train/image_199_png.rf.4ad9745c6688cf1585a112f4e263d2d4.jpg\r\n",
      "dataset_roboflow/valid/image_83_png.rf.6cc9b30a61534d606877f35883890efc.jpg\r\n",
      "dataset_roboflow/new_train/image_86_png.rf.5e367fcb50cd83e170a8b815efc7c228.jpg\r\n",
      "dataset_roboflow/new_train/00056_png.rf.8184ad18f95958f0e431d08b32813fbe.jpg\r\n",
      "dataset_roboflow/valid/image_6_png.rf.dbdfb20ff6104793a5569be0c7fc2901.jpg\r\n",
      "dataset_roboflow/train/images_2_png.rf.ae386904d0d9eeeeb4c431f1c23b10e5.jpg\r\n",
      "dataset_roboflow/train/image_184_png.rf.080daf927fb5dd6c4002f98d5b606a16.jpg\r\n",
      "dataset_roboflow/train/image_37_png.rf.2001162d1409b2f73fcf3aac50eb4cdc.jpg\r\n",
      "dataset_roboflow/train/image_101_png.rf.29208c72003a4b32f15ea62b15af921f.jpg\r\n",
      "dataset_roboflow/label_preprocess_for_trainingSet_and_valSet.ipynb\r\n",
      "dataset_roboflow/new_train/image_56_png.rf.2d71e0301a22117eabeaaef7cf40ec7a.jpg\r\n",
      "dataset_roboflow/train/image_161_png.rf.cfd20b4fe1695e91f26646da22150381.jpg\r\n",
      "dataset_roboflow/test/image_131_png.rf.30cd35691e523cf75b6cff4b23bc57fe.jpg\r\n",
      "dataset_roboflow/new_train/image_155_png.rf.64326c024437d67bea2775507e02f787.jpg\r\n",
      "dataset_roboflow/new_train/image_42_png.rf.994a1252265bd7383598547c034e8f4e.jpg\r\n",
      "dataset_roboflow/train/image_35_png.rf.9088aabf057d487fc6ac31026a691a61.jpg\r\n",
      "dataset_roboflow/valid/image_163_png.rf.9e57c12be79b5cd20a70a3d8723598f0.jpg\r\n",
      "dataset_roboflow/train/images_13_png.rf.3ef45cd67a39fd0826996b277afbd49c.jpg\r\n",
      "dataset_roboflow/new_train/00011_png.rf.16f88786c470a59efda7558d410d682e.jpg\r\n",
      "dataset_roboflow/new_train/image_64_png.rf.14b6cf9c5a4e392557ce86385a758df3.jpg\r\n",
      "dataset_roboflow/new_train/image_132_png.rf.69fb067a89ff770313aa02e1e230dd3f.jpg\r\n",
      "dataset_roboflow/new_train/image_52_png.rf.2bf5b466fe6df6a4f38d59261d0aa826.jpg\r\n",
      "dataset_roboflow/new_train/image_58_png.rf.8bd99697bf3ffee215330003b90d7399.jpg\r\n",
      "dataset_roboflow/new_train/image_192_png.rf.ee9186340852392c27710c9c7909580e.jpg\r\n",
      "dataset_roboflow/train/image_108_png.rf.81a586ab7642048a8fe556320feb4af2.jpg\r\n",
      "dataset_roboflow/train/image_60_png.rf.c8e31a6755df3b2efd5fb6bcb2813bad.jpg\r\n",
      "dataset_roboflow/train/image_66_png.rf.3ce2a636d180906f7c09c8202f90f5b1.jpg\r\n",
      "dataset_roboflow/valid/00056_png.rf.8184ad18f95958f0e431d08b32813fbe.jpg\r\n",
      "dataset_roboflow/new_train/image_196_png.rf.cfb410ceb0985e5af27f0bd7984692d9.jpg\r\n",
      "dataset_roboflow/train/image_40_png.rf.3a80a70460358fe194547e90f4ebfb08.jpg\r\n",
      "dataset_roboflow/train/images_4_png.rf.d1f6a8a15acf02f749273257a52a01c7.jpg\r\n",
      "dataset_roboflow/new_train/image_59_png.rf.ff1641da47e7810457573ca5e55a69cc.jpg\r\n",
      "dataset_roboflow/test/image_188_png.rf.c2224e1799eeda9db177cc67e12b010d.jpg\r\n",
      "dataset_roboflow/valid/image_199_png.rf.4ad9745c6688cf1585a112f4e263d2d4.jpg\r\n",
      "dataset_roboflow/train/image_96_png.rf.cdf8e9e23278c8501b960bbca936ff0b.jpg\r\n",
      "dataset_roboflow/new_train/image_5_png.rf.519690c61265a6af8ff9bcbe55820cb5.jpg\r\n",
      "dataset_roboflow/train/image_84_png.rf.0c77303a0284a1041ee7d91562eda9e5.jpg\r\n",
      "dataset_roboflow/new_train/image_90_png.rf.f3a0c2abaea7488bc11b92a4f8b03f9c.jpg\r\n",
      "dataset_roboflow/train/image_57_png.rf.794b6ed8d92e456785962098e07191ca.jpg\r\n",
      "dataset_roboflow/train/00020_png.rf.f706f299f764794d0e8f009c36d1398e.jpg\r\n",
      "dataset_roboflow/train/image_126_png.rf.5cd69fb531a55617d7485cc1e7f9bbb8.jpg\r\n",
      "dataset_roboflow/train/image_114_png.rf.e1e6c69eef7dc0d347ea14e9f69f1a3d.jpg\r\n",
      "dataset_roboflow/new_train/images_9_png.rf.781519868caceb1b81353b723d2afe34.jpg\r\n",
      "dataset_roboflow/new_train/image_137_png.rf.033c4c38e87a4bc5ec12a2f89c437524.jpg\r\n",
      "dataset_roboflow/new_train/00024_png.rf.097dd8beb3a90a32588e3b7d14105214.jpg\r\n"
     ]
    },
    {
     "name": "stdout",
     "output_type": "stream",
     "text": [
      "dataset_roboflow/new_train/image_37_png.rf.2001162d1409b2f73fcf3aac50eb4cdc.jpg\r\n",
      "dataset_roboflow/train/image_71_png.rf.f89064c2a4c10c71b258f1af3aeec4cc.jpg\r\n",
      "dataset_roboflow/valid/_annotations.csv\r\n",
      "dataset_roboflow/train/00022_png.rf.e130b45ccb36b15451f543f6549ba160.jpg\r\n",
      "dataset_roboflow/valid/image_89_png.rf.d0f2b62b4e24991c4be0cc72c1c41d2a.jpg\r\n",
      "dataset_roboflow/new_train/image_138_png.rf.4b6a988f799f253607bf8fba31c29969.jpg\r\n",
      "dataset_roboflow/new_train/image_172_png.rf.4ce43fdfe42885d3cc29f5d0c6b84c36.jpg\r\n",
      "dataset_roboflow/new_train/00016_png.rf.c01c97143ac974f20977499cba2436a0.jpg\r\n",
      "dataset_roboflow/train/image_183_png.rf.dd9fe17acdcb4a8e1f0239ec719dbf57.jpg\r\n",
      "dataset_roboflow/train/image_111_png.rf.fd9ef1f877fe81f086b23a7ddb081b8d.jpg\r\n",
      "dataset_roboflow/new_train/image_63_png.rf.29aaad08b030283eb66ac8fcdca57f13.jpg\r\n",
      "dataset_roboflow/new_train/image_106_png.rf.47b5dba5783266add9dd6b4641d5bc6e.jpg\r\n",
      "dataset_roboflow/new_train/image_149_png.rf.72eda11e4a9c13ad9870043e6f916bfd.jpg\r\n",
      "dataset_roboflow/new_train/00031_png.rf.87b2a2630122b7ed31b2a4af704ab7ec.jpg\r\n",
      "dataset_roboflow/train/image_168_png.rf.b0bc0b77cc03400aebbfc682fa3d6426.jpg\r\n",
      "dataset_roboflow/new_train/image_156_png.rf.011f6132890853b053990cca78e32423.jpg\r\n",
      "dataset_roboflow/new_train/images_7_png.rf.dbadc0f24d8df8a1403f6a7397e6e313.jpg\r\n",
      "dataset_roboflow/new_train/image_166_png.rf.1a7c311ff90164d0f2bf0a71cd608565.jpg\r\n",
      "dataset_roboflow/train/image_39_png.rf.04c788edb4426a597353f2ce7ebbe461.jpg\r\n",
      "dataset_roboflow/train/image_145_png.rf.7be2a02f54769fc490c7e68ccc14a50c.jpg\r\n",
      "dataset_roboflow/train/image_104_png.rf.a44efdccf7472beec04491916a5b1eba.jpg\r\n",
      "dataset_roboflow/train/image_47_png.rf.42b3c73a8ffb336cc8ee4b3f250ef323.jpg\r\n",
      "dataset_roboflow/new_train/images_11_png.rf.e44eacab343a4f4d7ef1fa5a7a988e2f.jpg\r\n",
      "dataset_roboflow/train/image_129_png.rf.47bf1be4611ad2a126f58dba6ce8edd4.jpg\r\n",
      "dataset_roboflow/train/image_50_png.rf.186df59b4950d5296136072505e550e9.jpg\r\n",
      "dataset_roboflow/new_train/image_158_png.rf.02c1ea65413a4ea61c03b43a33017e43.jpg\r\n",
      "dataset_roboflow/train/image_42_png.rf.994a1252265bd7383598547c034e8f4e.jpg\r\n",
      "dataset_roboflow/train/image_98_png.rf.b45fe0b0188010f1c6a68723ac19d3b9.jpg\r\n",
      "dataset_roboflow/new_train/image_84_png.rf.0c77303a0284a1041ee7d91562eda9e5.jpg\r\n",
      "dataset_roboflow/new_train/image_191_png.rf.677a876097ffb9ab66967e712c026dff.jpg\r\n",
      "dataset_roboflow/valid/image_56_png.rf.2d71e0301a22117eabeaaef7cf40ec7a.jpg\r\n",
      "dataset_roboflow/train/00011_png.rf.16f88786c470a59efda7558d410d682e.jpg\r\n",
      "dataset_roboflow/train/images_6_png.rf.f1213d6d76b07f22dba37b4233c38670.jpg\r\n",
      "dataset_roboflow/new_train/image_101_png.rf.29208c72003a4b32f15ea62b15af921f.jpg\r\n",
      "dataset_roboflow/new_train/image_201_png.rf.17cb62984debabb64c32a272a495a6b7.jpg\r\n",
      "dataset_roboflow/new_train/image_92_png.rf.5826277764057ab0eb4c61c1fd848b56.jpg\r\n",
      "dataset_roboflow/new_train/image_102_png.rf.59015d1c5d657dbffc1e37a53afde2b9.jpg\r\n",
      "dataset_roboflow/train/image_81_png.rf.5082767ceff8cc73f288b89906bad54b.jpg\r\n",
      "dataset_roboflow/valid/00031_png.rf.87b2a2630122b7ed31b2a4af704ab7ec.jpg\r\n",
      "dataset_roboflow/train/image_61_png.rf.b75a07f6c7029516b38ab66415c04ed7.jpg\r\n",
      "dataset_roboflow/new_train/image_2_png.rf.3f1113d6a15e907d65742cd2e90a4c97.jpg\r\n",
      "dataset_roboflow/new_train/image_69_png.rf.50932e97f5c22cb96b3586b01f599eab.jpg\r\n",
      "dataset_roboflow/train/image_86_png.rf.5e367fcb50cd83e170a8b815efc7c228.jpg\r\n",
      "dataset_roboflow/train/image_125_png.rf.c04fbdbbd7fdd4e23290345f85b3e732.jpg\r\n",
      "dataset_roboflow/new_train/images_13_png.rf.3ef45cd67a39fd0826996b277afbd49c.jpg\r\n",
      "dataset_roboflow/train/images_0_png.rf.acdd34c4b788cbd9cddcdeb9c54f1bdd.jpg\r\n",
      "dataset_roboflow/train/00024_png.rf.097dd8beb3a90a32588e3b7d14105214.jpg\r\n",
      "dataset_roboflow/train/image_171_png.rf.9c4426a73108fe76c7b909dcc78f54be.jpg\r\n",
      "dataset_roboflow/train/image_105_png.rf.e8222b2464461ffc35f9147bb99338df.jpg\r\n",
      "dataset_roboflow/train/image_112_png.rf.e7f438ac72a1aef948032a8625602086.jpg\r\n",
      "dataset_roboflow/train/image_194_png.rf.b301d5d13adc17d703d3b6aad65c3ef9.jpg\r\n",
      "dataset_roboflow/train/image_187_png.rf.ff512b9a85463df919eb88315ff5707f.jpg\r\n",
      "dataset_roboflow/new_train/00008_png.rf.fd4a12657377d42c46ae2a91ab9b770c.jpg\r\n",
      "dataset_roboflow/train/image_32_png.rf.f86de124528cdf52c1b9c90872e4dd49.jpg\r\n",
      "dataset_roboflow/new_train/images_3_png.rf.7a2db5c7cf8e08e69be4297974dee499.jpg\r\n",
      "dataset_roboflow/new_train/image_169_png.rf.a5718699c9d658f1c3be0b6e1d206563.jpg\r\n",
      "dataset_roboflow/train/00013_png.rf.d78966a1c8424421b61b43f0b63536ff.jpg\r\n",
      "dataset_roboflow/new_train/image_95_png.rf.42a17f43e054427a1dfd13047a897a70.jpg\r\n",
      "dataset_roboflow/train/image_119_png.rf.b9067cff9dea9d3d8c619c67b90ae652.jpg\r\n",
      "dataset_roboflow/new_train/00019_png.rf.30acb091fbd4f5ec416af77dc9445b91.jpg\r\n",
      "dataset_roboflow/new_train/image_47_png.rf.42b3c73a8ffb336cc8ee4b3f250ef323.jpg\r\n",
      "dataset_roboflow/valid/00019_png.rf.30acb091fbd4f5ec416af77dc9445b91.jpg\r\n",
      "dataset_roboflow/train/image_99_png.rf.78b54640b5db2991587f607ab8a614cc.jpg\r\n",
      "dataset_roboflow/new_train/00017_png.rf.bba1b6633a70dcd1c6e17cb8e40b421c.jpg\r\n",
      "dataset_roboflow/new_train/image_128_png.rf.1fc1a8b88ed00ebb81d683fd14ea3050.jpg\r\n",
      "dataset_roboflow/train/image_179_png.rf.b22426e1a6b5d8cba145700514ab39cb.jpg\r\n",
      "dataset_roboflow/train/image_59_png.rf.ff1641da47e7810457573ca5e55a69cc.jpg\r\n",
      "dataset_roboflow/new_train/images_1_png.rf.277eaf560622b762b34e3f3325ecfccb.jpg\r\n",
      "dataset_roboflow/new_train/image_157_png.rf.25f4ca2d300bf8ba063bd65a0184d341.jpg\r\n",
      "dataset_roboflow/test/images_14_png.rf.2e1996b917db3d4b700281e4223384a1.jpg\r\n",
      "dataset_roboflow/train/image_1_png.rf.5d188e903b4d976800a1808a02479bae.jpg\r\n",
      "dataset_roboflow/train/00016_png.rf.c01c97143ac974f20977499cba2436a0.jpg\r\n",
      "dataset_roboflow/new_train/image_114_png.rf.e1e6c69eef7dc0d347ea14e9f69f1a3d.jpg\r\n",
      "dataset_roboflow/train/image_64_png.rf.14b6cf9c5a4e392557ce86385a758df3.jpg\r\n",
      "dataset_roboflow/new_train/image_126_png.rf.5cd69fb531a55617d7485cc1e7f9bbb8.jpg\r\n",
      "dataset_roboflow/train/image_52_png.rf.2bf5b466fe6df6a4f38d59261d0aa826.jpg\r\n",
      "dataset_roboflow/train/image_58_png.rf.8bd99697bf3ffee215330003b90d7399.jpg\r\n",
      "dataset_roboflow/new_train/image_170_png.rf.f2f08ad86240a4ef89d3d6846df71569.jpg\r\n",
      "dataset_roboflow/new_train/image_164_png.rf.8b7d30591ae97dbe147928429a8fbd78.jpg\r\n",
      "dataset_roboflow/new_train/00037_png.rf.15c3470189819096fe8a96e52e292c64.jpg\r\n",
      "dataset_roboflow/new_train/00015_png.rf.c38d502d0064c5f5cf9c628d0eea5c48.jpg\r\n",
      "dataset_roboflow/train/image_147_png.rf.4fbaa5c50fd050324077a1f195b098bb.jpg\r\n",
      "dataset_roboflow/new_train/image_36_png.rf.cf8a6d8e41936d90a3ea6d59052cc4e5.jpg\r\n",
      "dataset_roboflow/new_train/image_6_png.rf.dbdfb20ff6104793a5569be0c7fc2901.jpg\r\n",
      "dataset_roboflow/train/image_130_png.rf.95713df36af838b81a7a9a4828a0275e.jpg\r\n",
      "dataset_roboflow/new_train/image_193_png.rf.df4b011fe4cafd5747a166511fe18464.jpg\r\n",
      "dataset_roboflow/new_train/image_183_png.rf.dd9fe17acdcb4a8e1f0239ec719dbf57.jpg\r\n",
      "dataset_roboflow/new_train/image_167_png.rf.4cd5c246559f42488b893c33c094b228.jpg\r\n",
      "dataset_roboflow/new_train/image_111_png.rf.fd9ef1f877fe81f086b23a7ddb081b8d.jpg\r\n",
      "dataset_roboflow/new_train/image_81_png.rf.5082767ceff8cc73f288b89906bad54b.jpg\r\n",
      "dataset_roboflow/train/image_113_png.rf.2e8877153058922337bf4f8fc94aae3c.jpg\r\n",
      "dataset_roboflow/train/image_90_png.rf.f3a0c2abaea7488bc11b92a4f8b03f9c.jpg\r\n",
      "dataset_roboflow/new_train/image_61_png.rf.b75a07f6c7029516b38ab66415c04ed7.jpg\r\n",
      "dataset_roboflow/train/image_181_png.rf.5cbfb7c2360290d2681fd02feabb69bf.jpg\r\n",
      "dataset_roboflow/new_train/image_32_png.rf.f86de124528cdf52c1b9c90872e4dd49.jpg\r\n",
      "dataset_roboflow/new_train/image_145_png.rf.7be2a02f54769fc490c7e68ccc14a50c.jpg\r\n",
      "dataset_roboflow/train/image_146_png.rf.0e0c7f7346f9585ab3162ddf60f4129b.jpg\r\n",
      "dataset_roboflow/new_train/image_165_png.rf.d5fae97a3d6eabf148b83a9f1b01912f.jpg\r\n",
      "dataset_roboflow/new_train/image_4_png.rf.eb80dfc9e03661463f2f51a0822638e9.jpg\r\n",
      "dataset_roboflow/new_train/image_129_png.rf.47bf1be4611ad2a126f58dba6ce8edd4.jpg\r\n",
      "dataset_roboflow/valid/image_128_png.rf.1fc1a8b88ed00ebb81d683fd14ea3050.jpg\r\n",
      "dataset_roboflow/train/images_9_png.rf.781519868caceb1b81353b723d2afe34.jpg\r\n",
      "dataset_roboflow/new_train/annotations.csv\r\n",
      "dataset_roboflow/new_train/image_99_png.rf.78b54640b5db2991587f607ab8a614cc.jpg\r\n",
      "dataset_roboflow/new_train/image_16_png.rf.1fe01f97efc9b35137682a5b9ffbeee3.jpg\r\n",
      "dataset_roboflow/new_train/image_55_png.rf.3f895c00b966af76d1057ee8f2218ace.jpg\r\n",
      "dataset_roboflow/new_train/00014_png.rf.68903944e83b2eb9d81069045280abd3.jpg\r\n",
      "dataset_roboflow/new_train/00036_png.rf.2b34e2144c9bcae70ffe42d5ea58dad5.jpg\r\n",
      "dataset_roboflow/new_train/image_100_png.rf.7a920f3e19af6e258e7204892e334434.jpg\r\n",
      "dataset_roboflow/new_train/image_74_png.rf.52beed189736dbe45515e7820607e606.jpg\r\n",
      "dataset_roboflow/new_train/image_24_png.rf.bbeef022903fc65084371c83e8438c9f.jpg\r\n",
      "dataset_roboflow/train/image_174_png.rf.d69d977bb9886e8816f1c2c9e4cb3c4d.jpg\r\n",
      "dataset_roboflow/new_train/image_124_png.rf.bc3b32c9dff56bbb26ec8b6fd0c48900.jpg\r\n",
      "dataset_roboflow/train/image_63_png.rf.29aaad08b030283eb66ac8fcdca57f13.jpg\r\n",
      "dataset_roboflow/train/image_80_png.rf.6ef39f1aaaa86b270e937ddbb988dceb.jpg\r\n",
      "dataset_roboflow/.ipynb_checkpoints/preprocess-checkpoint.ipynb\r\n",
      "dataset_roboflow/train/00008_png.rf.fd4a12657377d42c46ae2a91ab9b770c.jpg\r\n",
      "dataset_roboflow/train/images_7_png.rf.dbadc0f24d8df8a1403f6a7397e6e313.jpg\r\n",
      "dataset_roboflow/valid/image_69_png.rf.50932e97f5c22cb96b3586b01f599eab.jpg\r\n",
      "dataset_roboflow/train/image_122_png.rf.5c60e3a431e6256b9ef18db629c455ff.jpg\r\n",
      "dataset_roboflow/valid/image_193_png.rf.df4b011fe4cafd5747a166511fe18464.jpg\r\n",
      "dataset_roboflow/train/image_202_png.rf.01f0df305d69b6519ee85f0448e418ee.jpg\r\n"
     ]
    },
    {
     "name": "stdout",
     "output_type": "stream",
     "text": [
      "dataset_roboflow/new_train/00005_png.rf.59ae759d32184862d21e8e47699a3f75.jpg\n",
      "dataset_roboflow/new_train/image_150_png.rf.5e16435a3170bf25609325e710c2cead.jpg\n",
      "dataset_roboflow/train/00017_png.rf.bba1b6633a70dcd1c6e17cb8e40b421c.jpg\n",
      "dataset_roboflow/new_train/image_194_png.rf.b301d5d13adc17d703d3b6aad65c3ef9.jpg\n",
      "dataset_roboflow/new_train/image_54_png.rf.e921db3b7ecbca0e181de86af22af38a.jpg\n",
      "dataset_roboflow/new_train/image_171_png.rf.9c4426a73108fe76c7b909dcc78f54be.jpg\n",
      "dataset_roboflow/new_train/\n",
      "dataset_roboflow/new_train/image_187_png.rf.ff512b9a85463df919eb88315ff5707f.jpg\n",
      "dataset_roboflow/train/00023_png.rf.3f1cb893185cd392e8c7c86fa0c1c380.jpg\n",
      "dataset_roboflow/valid/00036_png.rf.2b34e2144c9bcae70ffe42d5ea58dad5.jpg\n",
      "dataset_roboflow/new_train/00013_png.rf.d78966a1c8424421b61b43f0b63536ff.jpg\n",
      "dataset_roboflow/train/images_1_png.rf.277eaf560622b762b34e3f3325ecfccb.jpg\n",
      "dataset_roboflow/train/image_62_png.rf.6c0b9410f080ec5d40f0544b8a627b60.jpg\n",
      "dataset_roboflow/train/00037_png.rf.15c3470189819096fe8a96e52e292c64.jpg\n",
      "dataset_roboflow/train/image_3_png.rf.cc2c88eced22cc3d8d6aedf240344011.jpg\n",
      "dataset_roboflow/train/image_177_png.rf.b136ad653ef90cf62cdb826fb403ebcc.jpg\n",
      "dataset_roboflow/train/image_116_png.rf.00fd33c7ccec3f023731356593132b1a.jpg\n",
      "dataset_roboflow/train/00015_png.rf.c38d502d0064c5f5cf9c628d0eea5c48.jpg\n",
      "dataset_roboflow/train/image_133_png.rf.2ea217d727171a95488d2f75525522f2.jpg\n",
      "dataset_roboflow/train/image_123_png.rf.455003849a43a2682cf40e1b6297fa67.jpg\n",
      "dataset_roboflow/train/image_78_png.rf.4ff4d26bcb20bb8ab5cc11e2b50d23f9.jpg\n",
      "dataset_roboflow/train/\n",
      "dataset_roboflow/test/image_65_png.rf.e3218cec368b8116517298850b15d964.jpg\n",
      "dataset_roboflow/new_train/image_175_png.rf.6ae413c5ccbc13d1fc6d48c193d66f1f.jpg\n",
      "dataset_roboflow/train/image_186_png.rf.4b1ba5048648d2d9b707273ef4615b1d.jpg\n",
      "dataset_roboflow/valid/00005_png.rf.59ae759d32184862d21e8e47699a3f75.jpg\n",
      "dataset_roboflow/new_train/image_140_png.rf.ece213c7176078ec5e8d0920e7cede94.jpg\n",
      "dataset_roboflow/new_train/image_179_png.rf.b22426e1a6b5d8cba145700514ab39cb.jpg\n",
      "dataset_roboflow/new_train/image_80_png.rf.6ef39f1aaaa86b270e937ddbb988dceb.jpg\n",
      "dataset_roboflow/new_train/image_147_png.rf.4fbaa5c50fd050324077a1f195b098bb.jpg\n",
      "dataset_roboflow/train/images_3_png.rf.7a2db5c7cf8e08e69be4297974dee499.jpg\n",
      "dataset_roboflow/train/image_162_png.rf.459b1aa412592e6544a19d098c7ee554.jpg\n",
      "dataset_roboflow/new_train/image_121_png.rf.198bad83011a284c8c4ddc6acf2a4661.jpg\n",
      "dataset_roboflow/new_train/images_20_png.rf.beaadf0a2525b7134c830bdeea939426.jpg\n",
      "dataset_roboflow/new_train/image_94_png.rf.456323ee4595395cd06a92b309fa6a94.jpg\n",
      "dataset_roboflow/new_train/image_130_png.rf.95713df36af838b81a7a9a4828a0275e.jpg\n",
      "dataset_roboflow/train/00014_png.rf.68903944e83b2eb9d81069045280abd3.jpg\n",
      "dataset_roboflow/train/00010_png.rf.ed049aa67c8121919d506c94ebb46711.jpg\n",
      "dataset_roboflow/train/image_176_png.rf.1d142b84a407dc9728627c3598624195.jpg\n",
      "dataset_roboflow/train/image_95_png.rf.42a17f43e054427a1dfd13047a897a70.jpg\n",
      "dataset_roboflow/new_train/image_181_png.rf.5cbfb7c2360290d2681fd02feabb69bf.jpg\n",
      "dataset_roboflow/new_train/image_78_png.rf.4ff4d26bcb20bb8ab5cc11e2b50d23f9.jpg\n",
      "dataset_roboflow/new_train/image_180_png.rf.334b193daf2ab65f8621d9ce6a2be5f6.jpg\n",
      "dataset_roboflow/new_train/image_109_png.rf.a0421b2c965d1977cdf76383066b017f.jpg\n",
      "dataset_roboflow/train/image_143_png.rf.50f42c05de6d0b7e2f28b0867d20ced6.jpg\n",
      "dataset_roboflow/train/image_141_png.rf.03ad1c87cb54ef4ac6075bd606e7c38b.jpg\n",
      "dataset_roboflow/train/image_151_png.rf.47bc031e605fc0b3183a05d3663cba4d.jpg\n",
      "dataset_roboflow/sketch_it_classes.csv\n",
      "dataset_roboflow/train/image_160_png.rf.a602a4fa5a216b5b9eda1f60d9852874.jpg\n",
      "dataset_roboflow/new_train/image_184_png.rf.080daf927fb5dd6c4002f98d5b606a16.jpg\n",
      "dataset_roboflow/new_train/00004_png.rf.ca684ae59d6f64243191968d04714a9f.jpg\n",
      "dataset_roboflow/train/image_93_png.rf.5ec8d17d5e27f6d6f84f1e1771f28d0e.jpg\n",
      "dataset_roboflow/train/image_48_png.rf.06700111974984003fda2562dcdc8061.jpg\n",
      "dataset_roboflow/train/image_70_png.rf.6972351c84fcb4896d0b86a6e128cb35.jpg\n",
      "dataset_roboflow/train/image_5_png.rf.519690c61265a6af8ff9bcbe55820cb5.jpg\n",
      "dataset_roboflow/new_train/image_76_png.rf.bd209e65474a1ea81adc1625dafc39a8.jpg\n",
      "dataset_roboflow/new_train/image_144_png.rf.73cd4e5d293f3f3f0fd8844ccd5d8225.jpg\n",
      "dataset_roboflow/train/images_11_png.rf.e44eacab343a4f4d7ef1fa5a7a988e2f.jpg\n",
      "dataset_roboflow/new_train/image_62_png.rf.6c0b9410f080ec5d40f0544b8a627b60.jpg\n",
      "dataset_roboflow/train/image_4_png.rf.eb80dfc9e03661463f2f51a0822638e9.jpg\n",
      "dataset_sketch_it/images/0bb2725b-88b4-4734-98f1-3d7d860434e9.png\n",
      "dataset_sketch_it/images/26246a48-79ca-41d2-b578-5bd82ed14d05.png\n",
      "dataset_sketch_it/images/8e594bc4-1057-4c65-b1e7-7f6c3effe522.png\n",
      "dataset_sketch_it/images/3cf4d5e6-cede-4272-aec0-f29790add91a.png\n",
      "dataset_sketch_it/images/8fd6acaf-cace-47c5-84bc-937773d65a55.png\n",
      "dataset_sketch_it/sketchit.ipynb\n",
      "dataset_sketch_it/images/3c0e378f-434b-451b-a88a-99fac1e8d4ee.png\n",
      "dataset_sketch_it/images/6913aa55-d647-4efc-a1ed-80d790618aa8.png\n",
      "dataset_sketch_it/images/da54575a-4e89-49aa-af1a-c4d8490ba57b.png\n",
      "dataset_sketch_it/images/a297ba33-fee9-417b-9dbf-4d92d36a6991.png\n",
      "dataset_sketch_it/images/1f9e8765-44db-4303-b12a-d6b30c9cc5f9.png\n",
      "dataset_sketch_it/images/6209fb2c-ec39-4f8e-b86b-075cc181a81c.png\n",
      "dataset_sketch_it/images/6475faaf-d427-4a61-a28d-aa781d5bdc91.png\n",
      "dataset_sketch_it/images/8935c4a2-f513-45b8-8cb4-cdcae568912d.png\n",
      "dataset_sketch_it/images/f9c92b4a-b209-4ed6-b172-88c2ffb86a48.png\n",
      "dataset_sketch_it/images/db6d137e-42f1-494a-8a13-69532d740209.png\n",
      "dataset_sketch_it/images/8ae99b35-2354-4f8b-ade0-9fd98f09f4fe.png\n",
      "dataset_sketch_it/images/ce3baaad-b073-4694-8ae0-1cb1e818c075.png\n",
      "dataset_sketch_it/images/0e883baf-e153-4a42-8e0c-f8cde7c179c3.png\n",
      "dataset_sketch_it/images/9e699db6-adf6-42ea-a833-1a4e5633f029.png\n",
      "dataset_sketch_it/images/778ff65f-b1de-4f58-b2ca-cf9fb3d02e96.png\n",
      "dataset_sketch_it/images/87fb3dd7-8551-41f3-bcb1-da87ddeccf6e.png\n",
      "dataset_sketch_it/images/261d5124-d34b-49e2-89bf-105028836be8.png\n",
      "dataset_sketch_it/images/808d5476-08eb-4b03-8997-6d16d1e2a32b.png\n",
      "dataset_sketch_it/images/4e16d9d6-be4b-46f5-99e1-8d144b11ecde.png\n",
      "dataset_sketch_it/images/80ce0ae6-9f89-429b-b2da-ae1b25e45acb.png\n",
      "dataset_sketch_it/images/bd73cef8-a70e-483e-b0f5-81a7a81ca95d.png\n",
      "dataset_sketch_it/images/722b8c8f-7975-4fc7-abde-b27b3bd37883.png\n",
      "dataset_sketch_it/images/6bec6664-a131-4e83-ae7d-afa331892d7c.png\n",
      "dataset_sketch_it/images/9bf34aeb-8b91-4061-b67e-cc08a3c7d177.png\n",
      "dataset_sketch_it/images/52840896-0073-4c1f-9aca-bbd87c17eac9.png\n",
      "dataset_sketch_it/images/8cea0797-e148-4eff-be0a-08bd8dad494a.png\n",
      "dataset_sketch_it/images/c237d277-27c4-465d-b2d6-e4eca2c069ed.png\n",
      "dataset_sketch_it/images/bdd7286c-6da8-4caa-a7a0-ffcaa7e0ba02.png\n",
      "dataset_sketch_it/images/770c6fbf-1046-4de3-a892-c1d53a9209ae.png\n",
      "dataset_sketch_it/images/1f9739ba-e178-4e15-add5-9b21ca8dc85d.png\n",
      "dataset_sketch_it/.ipynb_checkpoints/\n",
      "dataset_sketch_it/images/e6b36cb6-83a0-4865-8b33-52822722ef50.png\n",
      "dataset_sketch_it/images/dfca0ee0-9e19-49ed-b25c-149a9a713335.png\n",
      "dataset_sketch_it/images/94b81e83-315e-41d6-ad36-17ba9a565070.png\n",
      "dataset_sketch_it/images/d8f269e4-8ecb-4b5b-86ea-4839fb1a6e18.png\n",
      "dataset_sketch_it/images/d8583058-613e-4990-8973-5a231de3467b.png\n",
      "dataset_sketch_it/images/54c3f644-5aba-4ee1-9eaa-bf73e3285c06.png\n",
      "dataset_sketch_it/\n",
      "dataset_sketch_it/images/125ccd38-5f68-48c0-b060-8fb08dca2eca.png\n",
      "dataset_sketch_it/images/2469da39-65f0-428b-a1de-cedbba7db32e.png\n",
      "dataset_sketch_it/images/3892666c-c7c7-4b69-9000-9f050d2ca7fb.png\n",
      "dataset_sketch_it/images/094573f5-917f-4350-b8b5-3c828c834b57.png\n",
      "dataset_sketch_it/images/d985982e-3e78-4dd9-a16e-086f4bed223f.png\n",
      "dataset_sketch_it/images/6fb86772-9bee-49c9-b9ea-c6e99e05af31.png\n",
      "dataset_sketch_it/images/382a6051-21e3-4314-9337-a039579e8d3c.png\n",
      "dataset_sketch_it/images/dbe07573-d709-4f41-b99c-f06dd4b9bcdd.png\n",
      "dataset_sketch_it/images/b5e97de6-94ce-49e9-8553-ca8a8653f35d.png\n",
      "dataset_sketch_it/images/41bd3b56-732a-4a13-a23a-1619dd33f216.png\n",
      "dataset_sketch_it/images/f1f0f46b-4430-4227-ab3a-24ad1192728e.png\n",
      "dataset_sketch_it/images/16483b6e-47fe-4e9c-b78c-7f0ba4fef80c.png\n",
      "dataset_sketch_it/images/79f7dc11-4a61-4856-ab94-c1f64fdcc6d7.png\n",
      "dataset_sketch_it/images/b23c633e-f3d1-42ef-bbda-d6ddaeb53a3c.png\n",
      "dataset_sketch_it/images/1c111a83-6f50-4c61-8dc4-d2f672049f80.png\n",
      "dataset_sketch_it/images/6ab50c05-57cd-4e86-a601-c1524c509475.png\n",
      "dataset_sketch_it/images/aa7e1723-0f7c-4932-bca6-0407dc244a1f.png\n",
      "dataset_sketch_it/images/995d99ba-02a3-42ed-9841-fa7b7a6e967c.png\n",
      "dataset_sketch_it/images/b0ba879b-d04d-46aa-9d88-baa214a8d57f.png\n",
      "dataset_sketch_it/images/17d8a6bc-7322-40e8-a9b4-65930d9c7fef.png\n",
      "dataset_sketch_it/images/4fd5c47c-c546-4ee4-a53e-ffe34deed54e.png\n",
      "dataset_sketch_it/images/319257ad-eb80-46a6-86ca-6984c5883a46.png\n",
      "dataset_sketch_it/images/852e678f-afc5-43bd-a9fb-18f32275740b.png\n",
      "dataset_sketch_it/images/1803be9d-936c-4429-9301-2a0aaaffbb46.png\n",
      "dataset_sketch_it/images/8ded829b-7f25-4cd7-8d40-c1d3100d755d.png\n",
      "dataset_sketch_it/images/3e6baa71-dc1e-4ec8-8a3f-a4349e6cbf1a.png\n",
      "dataset_sketch_it/images/96822e44-dbbd-4d6c-9a81-5419f519ac22.png\n",
      "dataset_sketch_it/images/30f5f8e2-47c5-4977-933c-e005cc275663.png\n",
      "dataset_sketch_it/images/8bfdbd32-32ad-4b48-8db5-41671fc15d2b.png\n",
      "dataset_sketch_it/images/76f51eb5-afd2-4e83-82c0-a105b10dc6f1.png\n",
      "dataset_sketch_it/images/9e4b1496-e1cf-4bcc-9171-34e1fbbef25f.png\n",
      "dataset_sketch_it/images/5c696efc-7f6e-4bf3-9b7f-8cd952df3bfa.png\n",
      "dataset_sketch_it/images/890c905a-8da1-4a68-b1f9-b57babf1d1bf.png\n",
      "dataset_sketch_it/images/236b436f-ce60-4a25-8e81-3603552536e3.png\n",
      "dataset_sketch_it/images/6c993a8f-a251-415b-af5d-1781980d47f5.png\n",
      "dataset_sketch_it/images/999aa799-f234-4a6e-9c76-b6e98b031c5e.png\n",
      "dataset_sketch_it/images/f66ced22-8f4e-4c35-8277-e49fba7bf192.png\n",
      "dataset_sketch_it/images/feef1db7-6cbe-4d0d-9929-18e42ba09407.png\n",
      "dataset_sketch_it/images/3da7a00f-f912-41df-b9bd-0d469bad53a4.png\n",
      "dataset_sketch_it/images/12ca11b1-9d0b-475b-96c4-ce30aeb496ec.png\n",
      "dataset_sketch_it/images/504bd55e-069d-4a18-b535-da3ca2d45f56.png\n",
      "dataset_sketch_it/images/96b1c403-5923-47cb-8bd8-99b20e12620a.png\n",
      "dataset_sketch_it/images/7273531e-1908-475a-96b3-5c1776d10c5a.png\n",
      "dataset_sketch_it/images/7f288e89-a0fb-4f69-b6e8-458faae5915f.png\n",
      "dataset_sketch_it/images/f7178070-ea83-4a9e-b814-e367468705c3.png\n",
      "dataset_sketch_it/images/1b1f4c8c-92a7-4000-8f07-471d6f8016b1.png\n",
      "dataset_sketch_it/images/9f638ca2-de14-47dd-9f81-c697e849c3c5.png\n",
      "dataset_sketch_it/images/95e8e4eb-51ba-4193-8d2e-10ccda0547a7.png\n",
      "dataset_sketch_it/images/26a69d17-f61d-4edf-a993-fa5610d5bd0b.png\n",
      "dataset_sketch_it/images/1f6dce1a-bbe1-4fff-971a-79ebeaa99c1a.png\n",
      "dataset_sketch_it/images/68bea336-2616-431e-9321-99a8abe47e64.png\n",
      "dataset_sketch_it/images/e4da414a-0ad2-4580-ab2e-039a06532ea9.png\n",
      "dataset_sketch_it/images/653aa448-284d-4664-b993-734097595667.png\n",
      "dataset_sketch_it/images/8c7ccc76-83a9-4dde-8be3-84895b387230.png\n",
      "dataset_sketch_it/images/9d9f477c-0060-48d0-bde2-2f4cbf16d93d.png\n",
      "dataset_sketch_it/images/b04dc998-9b68-4d01-9670-0727d0d43617.png\n",
      "dataset_sketch_it/images/b61a2a6c-c46d-4575-a091-3508bf0b2b88.png\n",
      "dataset_sketch_it/images/ae3de36d-ba93-4a5d-829c-38fa0b865812.png\n",
      "dataset_sketch_it/images/64090cc3-7882-419b-b22b-3b6f51fd5115.png\n",
      "dataset_sketch_it/images/cf81631e-ee08-49b5-9c44-818024734b81.png\n",
      "dataset_sketch_it/images/0f5761f9-a85c-4b7f-949a-189ab7cf853e.png\n",
      "dataset_sketch_it/images/b0d1635f-2f9a-4285-8517-444cae326761.png\n",
      "dataset_sketch_it/images/5679fe0e-d661-4f54-b664-19f87d31a090.png\n",
      "dataset_sketch_it/images/57ace871-49e6-40be-8841-dd460a7ceb1a.png\n",
      "dataset_sketch_it/images/a5d02313-1d8b-4148-9cf9-54e832e827a6.png\n",
      "dataset_sketch_it/images/a2e5bc0f-6e8a-442e-affe-ca4bda44d262.png\n",
      "dataset_sketch_it/images/bde0646d-e0d6-497f-b832-cb2bbf907eb1.png\n",
      "dataset_sketch_it/images/bc18ff8e-a345-40ed-9f3e-ccaf0ca2141f.png\n",
      "dataset_sketch_it/images/13b9f109-f532-471a-8f39-f19eef551919.png\n",
      "dataset_sketch_it/images/fa3aae44-9496-4557-a085-d1407b5b3e8e.png\n",
      "dataset_sketch_it/images/05495118-dcee-4e4e-bee1-b6823096e2b7.png\n",
      "dataset_sketch_it/images/22b40473-2892-4ab9-96be-9aee12ffd17a.png\n",
      "dataset_sketch_it/dataset.json\n"
     ]
    },
    {
     "name": "stdout",
     "output_type": "stream",
     "text": [
      "dataset_sketch_it/images/annotations.csv\n",
      "dataset_sketch_it/images/938936cd-9222-4a2a-a46a-cbb9e25d232c.png\n",
      "dataset_sketch_it/.ipynb_checkpoints/sketchit-checkpoint.ipynb\n",
      "dataset_sketch_it/images/431bea08-f917-46c5-97b7-78766ee34ab5.png\n",
      "dataset_sketch_it/images/d20b2bf2-ee77-404f-8de3-9238284d1957.png\n",
      "dataset_sketch_it/images/5bc04e44-1903-40b3-a782-79035dcec16d.png\n",
      "dataset_sketch_it/images/b5a04858-3e4a-4db4-9117-47f7e533798a.png\n",
      "dataset_sketch_it/images/e86d7eae-07d8-49da-86c6-883cea3a87c4.png\n",
      "dataset_sketch_it/images/7f7bf1e5-2f17-4316-ac56-448d99afb35f.png\n",
      "dataset_sketch_it/images/a6c59f33-2285-4644-97aa-52f193d4e5ce.png\n",
      "dataset_sketch_it/images/df16cc89-07db-46d0-9748-ca450e8fbfba.png\n",
      "dataset_sketch_it/images/e61e2973-7712-4b2c-91e9-b3221756a220.png\n",
      "dataset_sketch_it/images/eaa0ceec-7f26-42b2-81a7-b8cd52416fec.png\n",
      "dataset_sketch_it/images/2156be4b-6d9b-461b-98ed-1ca46f07b453.png\n",
      "dataset_sketch_it/images/c0822cd3-0bcb-458b-8dba-eef63fe4e3a3.png\n",
      "dataset_sketch_it/images/2451e8de-9c13-40ab-ba9d-3141d9d2fdec.png\n",
      "dataset_sketch_it/images/6e9ac9b9-b034-49e5-8aac-911b7a482dfd.png\n",
      "dataset_sketch_it/images/782ebd0a-b6bd-4607-a109-4beca493c694.png\n",
      "dataset_sketch_it/images/\n",
      "dataset_sketch_it/images/d960506e-ca2c-4393-911c-6a1e7fbaddf7.png\n",
      "dataset_sketch_it/images/54f95c56-6e1e-42b9-b0ee-2f9de7134c6e.png\n",
      "dataset_sketch_it/images/e8f8f3bf-6241-4b9f-91c4-3422c6dadee7.png\n",
      "dataset_sketch_it/images/c6d6c834-f44b-4227-aec1-5bf40f05b0c7.png\n",
      "dataset_sketch_it/images/48002818-9e4b-486c-96cf-db1052cda8b7.png\n",
      "dataset_sketch_it/images/85c935d2-a69a-4d58-907b-22cf24a53fd5.png\n",
      "dataset_sketch_it/images/39f28af1-a6d1-4620-9d9d-840450a1e6a2.png\n",
      "dataset_sketch_it/images/b492b141-a162-4e40-bba2-920a9d1c9555.png\n",
      "dataset_sketch_it/images/8d7dfde9-323b-42b8-ae30-8665233cc870.png\n",
      "dataset_sketch_it/images/552147ca-3b14-44ed-8de7-4638f1598c92.png\n",
      "dataset_sketch_it/images/98e674be-e53f-4fad-880d-a97eca09d16f.png\n",
      "dataset_sketch_it/images/6450fc7c-cd20-4f5d-a41d-c23bba871984.png\n",
      "dataset_sketch_it/images/d8f1369c-5c96-4cdd-b437-a77353c831c6.png\n",
      "dataset_sketch_it/images/da8781f7-e181-455c-9639-2eb2df710ca5.png\n",
      "dataset_sketch_it/images/4ffebf6a-a75b-4361-81f8-95b08fee802b.png\n",
      "dataset_sketch_it/images/1b080c62-85d1-4222-9601-c4eec8b2cff8.png\n",
      "dataset_sketch_it/images/4ffbe90a-7888-4dd3-9e5c-7565fa1b4847.png\n",
      "dataset_sketch_it/images/2c70e243-010a-492c-b55e-6131c7211328.png\n",
      "dataset_sketch_it/images/603eb545-1b3c-4e44-8d46-80c452d4fe3d.png\n",
      "dataset_sketch_it/images/a2d2b1cd-d4b8-4a1c-90fa-e5549e39b91b.png\n",
      "/home/uwu/Desktop/object detection/TF_OD_model/Tensorflow/workspace/images/create_new_dataset_and_preprocess.py:113: FutureWarning: The frame.append method is deprecated and will be removed from pandas in a future version. Use pandas.concat instead.\n",
      "  new_dataset = roboflow.append(sketch_it, ignore_index=True)\n",
      "Tensorflow/workspace/images/new_dataset/\n",
      "\n",
      "Category ids in annotations are not in [1, #categories]! We'll apply a mapping for you.\n",
      "\n",
      "['None', 'Button', 'CheckBox', 'Heading', 'Image', 'Label', 'Link', 'Paragraph', 'RadioButton', 'Select', 'TextBox']\n",
      "Figure(1500x1000)\n",
      "/home/uwu/Desktop/object detection/TF_OD_model/Tensorflow/workspace/images/create_new_dataset_and_preprocess.py:346: FutureWarning: The frame.append method is deprecated and will be removed from pandas in a future version. Use pandas.concat instead.\n",
      "  train_set = train_set.append(train, ignore_index=True)\n",
      "/home/uwu/Desktop/object detection/TF_OD_model/Tensorflow/workspace/images/create_new_dataset_and_preprocess.py:347: FutureWarning: The frame.append method is deprecated and will be removed from pandas in a future version. Use pandas.concat instead.\n",
      "  test_set = test_set.append(test, ignore_index=True)\n",
      "Tensorflow/workspace/images/train/\n",
      "Tensorflow/workspace/images/test/\n",
      "FINISHED. There were 0 errors\n",
      "Successfully created the TFRecords: /home/uwu/Desktop/object detection/TF_OD_model/Tensorflow/workspace/images/train.record\n",
      "FINISHED. There were 0 errors\n",
      "Successfully created the TFRecords: /home/uwu/Desktop/object detection/TF_OD_model/Tensorflow/workspace/images/test.record\n"
     ]
    }
   ],
   "source": [
    "!python {paths['IMAGE_PATH']}/create_new_dataset_and_preprocess.py -p {paths['IMAGE_PATH']}"
   ]
  },
  {
   "cell_type": "code",
   "execution_count": 52,
   "metadata": {},
   "outputs": [
    {
     "data": {
      "text/plain": [
       "'done'"
      ]
     },
     "execution_count": 52,
     "metadata": {},
     "output_type": "execute_result"
    }
   ],
   "source": [
    "import shutil\n",
    "\n",
    "\n",
    "shutil.copy2(os.path.join(paths['IMAGE_PATH'],'label_map.pbtxt'),paths['ANNOTATION_PATH'])\n",
    "shutil.copy2(os.path.join(paths['IMAGE_PATH'],'train.record'),paths['ANNOTATION_PATH'])\n",
    "shutil.copy2(os.path.join(paths['IMAGE_PATH'],'test.record'),paths['ANNOTATION_PATH'])\n",
    "'done'"
   ]
  },
  {
   "cell_type": "code",
   "execution_count": 53,
   "metadata": {
    "id": "HR-TfDGrpfDC"
   },
   "outputs": [],
   "source": [
    "for path in paths.values():\n",
    "    if not os.path.exists(path):\n",
    "        if os.name == 'posix':\n",
    "            !mkdir -p {path}\n",
    "        if os.name == 'nt':\n",
    "            !mkdir {path}"
   ]
  },
  {
   "cell_type": "code",
   "execution_count": 54,
   "metadata": {
    "colab": {
     "base_uri": "https://localhost:8080/"
    },
    "id": "csofht2npfDE",
    "outputId": "ff5471b2-bed2-43f2-959c-327a706527b6"
   },
   "outputs": [
    {
     "name": "stdout",
     "output_type": "stream",
     "text": [
      "ssd_mobilenet_v2_fpnlite_320x320_coco17_tpu-8/\n",
      "ssd_mobilenet_v2_fpnlite_320x320_coco17_tpu-8/checkpoint/\n",
      "ssd_mobilenet_v2_fpnlite_320x320_coco17_tpu-8/checkpoint/ckpt-0.data-00000-of-00001\n",
      "ssd_mobilenet_v2_fpnlite_320x320_coco17_tpu-8/checkpoint/checkpoint\n",
      "ssd_mobilenet_v2_fpnlite_320x320_coco17_tpu-8/checkpoint/ckpt-0.index\n",
      "ssd_mobilenet_v2_fpnlite_320x320_coco17_tpu-8/pipeline.config\n",
      "ssd_mobilenet_v2_fpnlite_320x320_coco17_tpu-8/saved_model/\n",
      "ssd_mobilenet_v2_fpnlite_320x320_coco17_tpu-8/saved_model/saved_model.pb\n",
      "ssd_mobilenet_v2_fpnlite_320x320_coco17_tpu-8/saved_model/variables/\n",
      "ssd_mobilenet_v2_fpnlite_320x320_coco17_tpu-8/saved_model/variables/variables.data-00000-of-00001\n",
      "ssd_mobilenet_v2_fpnlite_320x320_coco17_tpu-8/saved_model/variables/variables.index\n"
     ]
    }
   ],
   "source": [
    "if os.name =='posix':\n",
    "#     !wget -c {PRETRAINED_MODEL_URL} \n",
    "    !cp TF_zoo/{PRETRAINED_MODEL_NAME+'.tar.gz'} {paths['PRETRAINED_MODEL_PATH']}\n",
    "    !cd {paths['PRETRAINED_MODEL_PATH']} && tar -zxvf {PRETRAINED_MODEL_NAME+'.tar.gz'}\n",
    "if os.name == 'nt':\n",
    "    wget.download(PRETRAINED_MODEL_URL)\n",
    "    !move {PRETRAINED_MODEL_NAME+'.tar.gz'} {paths['PRETRAINED_MODEL_PATH']}\n",
    "    !cd {paths['PRETRAINED_MODEL_PATH']} && tar -zxvf {PRETRAINED_MODEL_NAME+'.tar.gz'}"
   ]
  },
  {
   "cell_type": "markdown",
   "metadata": {
    "id": "OLU-rs_ipfDE"
   },
   "source": [
    "# 1. Download TF Models Pretrained Models from Tensorflow Model Zoo and Install TFOD"
   ]
  },
  {
   "cell_type": "code",
   "execution_count": 55,
   "metadata": {},
   "outputs": [],
   "source": [
    "# https://www.tensorflow.org/install/source_windows"
   ]
  },
  {
   "cell_type": "code",
   "execution_count": 56,
   "metadata": {
    "id": "K-Cmz2edpfDE",
    "scrolled": true
   },
   "outputs": [],
   "source": [
    "if os.name=='nt':\n",
    "    !pip install wget\n",
    "    import wget"
   ]
  },
  {
   "cell_type": "code",
   "execution_count": 57,
   "metadata": {
    "id": "iA1DIq5OpfDE"
   },
   "outputs": [],
   "source": [
    "if not os.path.exists(os.path.join(paths['APIMODEL_PATH'], 'research', 'object_detection')):\n",
    "    !git clone https://github.com/tensorflow/models {paths['APIMODEL_PATH']}"
   ]
  },
  {
   "cell_type": "code",
   "execution_count": 58,
   "metadata": {
    "id": "rJjMHbnDs3Tv"
   },
   "outputs": [],
   "source": [
    "# # Install Tensorflow Object Detection \n",
    "# if os.name=='posix':  \n",
    "# #     !sudo apt install protobuf-compiler\n",
    "#     !cd Tensorflow/models/research && protoc object_detection/protos/*.proto --python_out=. && cp object_detection/packages/tf2/setup.py . && python3 -m pip install . \n",
    "    \n",
    "# if os.name=='nt':\n",
    "#     url=\"https://github.com/protocolbuffers/protobuf/releases/download/v3.15.6/protoc-3.15.6-win64.zip\"\n",
    "#     wget.download(url)\n",
    "#     !move protoc-3.15.6-win64.zip {paths['PROTOC_PATH']}\n",
    "#     !cd {paths['PROTOC_PATH']} && tar -xf protoc-3.15.6-win64.zip\n",
    "#     os.environ['PATH'] += os.pathsep + os.path.abspath(os.path.join(paths['PROTOC_PATH'], 'bin'))   \n",
    "#     !cd Tensorflow/models/research && protoc object_detection/protos/*.proto --python_out=. && copy object_detection\\\\packages\\\\tf2\\\\setup.py setup.py && python setup.py build && python setup.py install\n",
    "#     !cd Tensorflow/models/research/slim && pip install -e . "
   ]
  },
  {
   "cell_type": "code",
   "execution_count": 59,
   "metadata": {
    "scrolled": true
   },
   "outputs": [],
   "source": [
    "# VERIFICATION_SCRIPT = os.path.join(paths['APIMODEL_PATH'], 'research', 'object_detection', 'builders', 'model_builder_tf2_test.py')\n",
    "# # Verify Installation\n",
    "# !python3 {VERIFICATION_SCRIPT}"
   ]
  },
  {
   "cell_type": "code",
   "execution_count": 60,
   "metadata": {},
   "outputs": [],
   "source": [
    "import object_detection"
   ]
  },
  {
   "cell_type": "code",
   "execution_count": 61,
   "metadata": {
    "colab": {
     "base_uri": "https://localhost:8080/"
    },
    "id": "csofht2npfDE",
    "outputId": "ff5471b2-bed2-43f2-959c-327a706527b6"
   },
   "outputs": [],
   "source": [
    "# if os.name =='posix':\n",
    "#     !wget -c {PRETRAINED_MODEL_URL} \n",
    "#     !cp {PRETRAINED_MODEL_NAME+'.tar.gz'} {paths['PRETRAINED_MODEL_PATH']}\n",
    "#     !cd {paths['PRETRAINED_MODEL_PATH']} && tar -zxvf {PRETRAINED_MODEL_NAME+'.tar.gz'}\n",
    "# if os.name == 'nt':\n",
    "#     wget.download(PRETRAINED_MODEL_URL)\n",
    "#     !move {PRETRAINED_MODEL_NAME+'.tar.gz'} {paths['PRETRAINED_MODEL_PATH']}\n",
    "#     !cd {paths['PRETRAINED_MODEL_PATH']} && tar -zxvf {PRETRAINED_MODEL_NAME+'.tar.gz'}"
   ]
  },
  {
   "cell_type": "markdown",
   "metadata": {
    "id": "M5KJTnkfpfDC"
   },
   "source": [
    "# 2. Create Label Map"
   ]
  },
  {
   "cell_type": "code",
   "execution_count": 62,
   "metadata": {
    "id": "p1BVDWo7pfDC"
   },
   "outputs": [
    {
     "data": {
      "text/plain": [
       "{'Button': 1,\n",
       " 'CheckBox': 2,\n",
       " 'Heading': 3,\n",
       " 'Image': 4,\n",
       " 'Label': 5,\n",
       " 'Link': 6,\n",
       " 'Paragraph': 7,\n",
       " 'RadioButton': 8,\n",
       " 'Select': 9,\n",
       " 'TextBox': 10}"
      ]
     },
     "execution_count": 62,
     "metadata": {},
     "output_type": "execute_result"
    }
   ],
   "source": [
    "# labels = [{'name': 'Button', 'id': 1},\n",
    "#  {'name': 'CheckBox', 'id': 2},\n",
    "#  {'name': 'Heading', 'id': 3},\n",
    "#  {'name': 'Image', 'id': 4},\n",
    "#  {'name': 'Label', 'id': 5},\n",
    "#  {'name': 'Link', 'id': 6},\n",
    "#  {'name': 'Paragraph', 'id': 7},\n",
    "#  {'name': 'RadioButton', 'id': 8},\n",
    "#  {'name': 'Select', 'id': 9},\n",
    "#  {'name': 'TextBox', 'id': 10}]\n",
    "\n",
    "\n",
    "from object_detection.utils import dataset_util, label_map_util\n",
    "\n",
    "labels_map = label_map_util.load_labelmap(files['LABELMAP'])\n",
    "labels = label_map_util.get_label_map_dict(labels_map)\n",
    "\n",
    "\n",
    "labels \n",
    "\n",
    "# with open(files['LABELMAP'], 'w') as f:\n",
    "#     for label in labels:\n",
    "#         f.write('item { \\n')\n",
    "#         f.write('\\tname:\\'{}\\'\\n'.format(label['name']))\n",
    "#         f.write('\\tid:{}\\n'.format(label['id']))\n",
    "#         f.write('}\\n') "
   ]
  },
  {
   "cell_type": "markdown",
   "metadata": {
    "id": "C88zyVELpfDC"
   },
   "source": [
    "# 3. Create TF records"
   ]
  },
  {
   "cell_type": "code",
   "execution_count": 63,
   "metadata": {
    "colab": {
     "base_uri": "https://localhost:8080/"
    },
    "id": "kvf5WccwrFGq",
    "outputId": "49902aeb-0bd7-4298-e1a0-5b4a64eb2064"
   },
   "outputs": [],
   "source": [
    "# # OPTIONAL IF RUNNING ON COLAB\n",
    "# ARCHIVE_FILES = os.path.join(paths['IMAGE_PATH'], 'archive.tar.gz')\n",
    "# if os.path.exists(ARCHIVE_FILES):\n",
    "#   !tar -zxvf {ARCHIVE_FILES}"
   ]
  },
  {
   "cell_type": "code",
   "execution_count": 64,
   "metadata": {
    "colab": {
     "base_uri": "https://localhost:8080/"
    },
    "id": "KWpb_BVUpfDD",
    "outputId": "56ce2a3f-3933-4ee6-8a9d-d5ec65f7d73c"
   },
   "outputs": [],
   "source": [
    "# if not os.path.exists(files['TF_RECORD_SCRIPT']):\n",
    "#     !git clone https://github.com/nicknochnack/GenerateTFRecord {paths['SCRIPTS_PATH']}"
   ]
  },
  {
   "cell_type": "code",
   "execution_count": 65,
   "metadata": {},
   "outputs": [],
   "source": [
    "# !pip3 uninstall protobuf"
   ]
  },
  {
   "cell_type": "code",
   "execution_count": 66,
   "metadata": {
    "colab": {
     "base_uri": "https://localhost:8080/"
    },
    "id": "UPFToGZqpfDD",
    "outputId": "0ebb456f-aadc-4a1f-96e6-fbfec1923e1c"
   },
   "outputs": [],
   "source": [
    "# !python3 {files['TF_RECORD_SCRIPT']} -x {os.path.join(paths['IMAGE_PATH'], 'train')} -l {files['LABELMAP']} -o {os.path.join(paths['ANNOTATION_PATH'], 'train.record')} \n",
    "# !python3 {files['TF_RECORD_SCRIPT']} -x {os.path.join(paths['IMAGE_PATH'], 'test')} -l {files['LABELMAP']} -o {os.path.join(paths['ANNOTATION_PATH'], 'test.record')} "
   ]
  },
  {
   "cell_type": "markdown",
   "metadata": {
    "id": "qT4QU7pLpfDE"
   },
   "source": [
    "# 4. Copy Model Config to Training Folder"
   ]
  },
  {
   "cell_type": "code",
   "execution_count": 67,
   "metadata": {
    "id": "cOjuTFbwpfDF"
   },
   "outputs": [],
   "source": [
    "if os.name =='posix':\n",
    "    !cp {os.path.join(paths['PRETRAINED_MODEL_PATH'], PRETRAINED_MODEL_NAME, 'pipeline.config')} {os.path.join(paths['CHECKPOINT_PATH'])}\n",
    "if os.name == 'nt':\n",
    "    !copy {os.path.join(paths['PRETRAINED_MODEL_PATH'], PRETRAINED_MODEL_NAME, 'pipeline.config')} {os.path.join(paths['CHECKPOINT_PATH'])}"
   ]
  },
  {
   "cell_type": "markdown",
   "metadata": {
    "id": "Ga8gpNslpfDF"
   },
   "source": [
    "# 5. Update Config For Transfer Learning"
   ]
  },
  {
   "cell_type": "code",
   "execution_count": 68,
   "metadata": {
    "id": "Z9hRrO_ppfDF"
   },
   "outputs": [],
   "source": [
    "import tensorflow as tf\n",
    "from object_detection.utils import config_util\n",
    "from object_detection.protos import pipeline_pb2\n",
    "from google.protobuf import text_format"
   ]
  },
  {
   "cell_type": "code",
   "execution_count": 69,
   "metadata": {},
   "outputs": [
    {
     "data": {
      "text/plain": [
       "'Tensorflow/workspace/models/my_ssd_mobilenet_v2_fpnlite_320x320_coco17_tpu-8/pipeline.config'"
      ]
     },
     "execution_count": 69,
     "metadata": {},
     "output_type": "execute_result"
    }
   ],
   "source": [
    "files['PIPELINE_CONFIG']"
   ]
  },
  {
   "cell_type": "code",
   "execution_count": 70,
   "metadata": {
    "id": "c2A0mn4ipfDF"
   },
   "outputs": [],
   "source": [
    "config = config_util.get_configs_from_pipeline_file(files['PIPELINE_CONFIG'])"
   ]
  },
  {
   "cell_type": "code",
   "execution_count": 71,
   "metadata": {
    "colab": {
     "base_uri": "https://localhost:8080/"
    },
    "id": "uQA13-afpfDF",
    "outputId": "907496a4-a39d-4b13-8c2c-e5978ecb1f10"
   },
   "outputs": [
    {
     "data": {
      "text/plain": [
       "{'model': ssd {\n",
       "   num_classes: 90\n",
       "   image_resizer {\n",
       "     fixed_shape_resizer {\n",
       "       height: 320\n",
       "       width: 320\n",
       "     }\n",
       "   }\n",
       "   feature_extractor {\n",
       "     type: \"ssd_mobilenet_v2_fpn_keras\"\n",
       "     depth_multiplier: 1.0\n",
       "     min_depth: 16\n",
       "     conv_hyperparams {\n",
       "       regularizer {\n",
       "         l2_regularizer {\n",
       "           weight: 3.9999998989515007e-05\n",
       "         }\n",
       "       }\n",
       "       initializer {\n",
       "         random_normal_initializer {\n",
       "           mean: 0.0\n",
       "           stddev: 0.009999999776482582\n",
       "         }\n",
       "       }\n",
       "       activation: RELU_6\n",
       "       batch_norm {\n",
       "         decay: 0.996999979019165\n",
       "         scale: true\n",
       "         epsilon: 0.0010000000474974513\n",
       "       }\n",
       "     }\n",
       "     use_depthwise: true\n",
       "     override_base_feature_extractor_hyperparams: true\n",
       "     fpn {\n",
       "       min_level: 3\n",
       "       max_level: 7\n",
       "       additional_layer_depth: 128\n",
       "     }\n",
       "   }\n",
       "   box_coder {\n",
       "     faster_rcnn_box_coder {\n",
       "       y_scale: 10.0\n",
       "       x_scale: 10.0\n",
       "       height_scale: 5.0\n",
       "       width_scale: 5.0\n",
       "     }\n",
       "   }\n",
       "   matcher {\n",
       "     argmax_matcher {\n",
       "       matched_threshold: 0.5\n",
       "       unmatched_threshold: 0.5\n",
       "       ignore_thresholds: false\n",
       "       negatives_lower_than_unmatched: true\n",
       "       force_match_for_each_row: true\n",
       "       use_matmul_gather: true\n",
       "     }\n",
       "   }\n",
       "   similarity_calculator {\n",
       "     iou_similarity {\n",
       "     }\n",
       "   }\n",
       "   box_predictor {\n",
       "     weight_shared_convolutional_box_predictor {\n",
       "       conv_hyperparams {\n",
       "         regularizer {\n",
       "           l2_regularizer {\n",
       "             weight: 3.9999998989515007e-05\n",
       "           }\n",
       "         }\n",
       "         initializer {\n",
       "           random_normal_initializer {\n",
       "             mean: 0.0\n",
       "             stddev: 0.009999999776482582\n",
       "           }\n",
       "         }\n",
       "         activation: RELU_6\n",
       "         batch_norm {\n",
       "           decay: 0.996999979019165\n",
       "           scale: true\n",
       "           epsilon: 0.0010000000474974513\n",
       "         }\n",
       "       }\n",
       "       depth: 128\n",
       "       num_layers_before_predictor: 4\n",
       "       kernel_size: 3\n",
       "       class_prediction_bias_init: -4.599999904632568\n",
       "       share_prediction_tower: true\n",
       "       use_depthwise: true\n",
       "     }\n",
       "   }\n",
       "   anchor_generator {\n",
       "     multiscale_anchor_generator {\n",
       "       min_level: 3\n",
       "       max_level: 7\n",
       "       anchor_scale: 4.0\n",
       "       aspect_ratios: 1.0\n",
       "       aspect_ratios: 2.0\n",
       "       aspect_ratios: 0.5\n",
       "       scales_per_octave: 2\n",
       "     }\n",
       "   }\n",
       "   post_processing {\n",
       "     batch_non_max_suppression {\n",
       "       score_threshold: 9.99999993922529e-09\n",
       "       iou_threshold: 0.6000000238418579\n",
       "       max_detections_per_class: 100\n",
       "       max_total_detections: 100\n",
       "       use_static_shapes: false\n",
       "     }\n",
       "     score_converter: SIGMOID\n",
       "   }\n",
       "   normalize_loss_by_num_matches: true\n",
       "   loss {\n",
       "     localization_loss {\n",
       "       weighted_smooth_l1 {\n",
       "       }\n",
       "     }\n",
       "     classification_loss {\n",
       "       weighted_sigmoid_focal {\n",
       "         gamma: 2.0\n",
       "         alpha: 0.25\n",
       "       }\n",
       "     }\n",
       "     classification_weight: 1.0\n",
       "     localization_weight: 1.0\n",
       "   }\n",
       "   encode_background_as_zeros: true\n",
       "   normalize_loc_loss_by_codesize: true\n",
       "   inplace_batchnorm_update: true\n",
       "   freeze_batchnorm: false\n",
       " },\n",
       " 'train_config': batch_size: 128\n",
       " data_augmentation_options {\n",
       "   random_horizontal_flip {\n",
       "   }\n",
       " }\n",
       " data_augmentation_options {\n",
       "   random_crop_image {\n",
       "     min_object_covered: 0.0\n",
       "     min_aspect_ratio: 0.75\n",
       "     max_aspect_ratio: 3.0\n",
       "     min_area: 0.75\n",
       "     max_area: 1.0\n",
       "     overlap_thresh: 0.0\n",
       "   }\n",
       " }\n",
       " sync_replicas: true\n",
       " optimizer {\n",
       "   momentum_optimizer {\n",
       "     learning_rate {\n",
       "       cosine_decay_learning_rate {\n",
       "         learning_rate_base: 0.07999999821186066\n",
       "         total_steps: 50000\n",
       "         warmup_learning_rate: 0.026666000485420227\n",
       "         warmup_steps: 1000\n",
       "       }\n",
       "     }\n",
       "     momentum_optimizer_value: 0.8999999761581421\n",
       "   }\n",
       "   use_moving_average: false\n",
       " }\n",
       " fine_tune_checkpoint: \"PATH_TO_BE_CONFIGURED\"\n",
       " num_steps: 50000\n",
       " startup_delay_steps: 0.0\n",
       " replicas_to_aggregate: 8\n",
       " max_number_of_boxes: 100\n",
       " unpad_groundtruth_tensors: false\n",
       " fine_tune_checkpoint_type: \"classification\"\n",
       " fine_tune_checkpoint_version: V2,\n",
       " 'train_input_config': label_map_path: \"PATH_TO_BE_CONFIGURED\"\n",
       " tf_record_input_reader {\n",
       "   input_path: \"PATH_TO_BE_CONFIGURED\"\n",
       " },\n",
       " 'eval_config': metrics_set: \"coco_detection_metrics\"\n",
       " use_moving_averages: false,\n",
       " 'eval_input_configs': [label_map_path: \"PATH_TO_BE_CONFIGURED\"\n",
       " shuffle: false\n",
       " num_epochs: 1\n",
       " tf_record_input_reader {\n",
       "   input_path: \"PATH_TO_BE_CONFIGURED\"\n",
       " }\n",
       " ],\n",
       " 'eval_input_config': label_map_path: \"PATH_TO_BE_CONFIGURED\"\n",
       " shuffle: false\n",
       " num_epochs: 1\n",
       " tf_record_input_reader {\n",
       "   input_path: \"PATH_TO_BE_CONFIGURED\"\n",
       " }}"
      ]
     },
     "execution_count": 71,
     "metadata": {},
     "output_type": "execute_result"
    }
   ],
   "source": [
    "config"
   ]
  },
  {
   "cell_type": "code",
   "execution_count": 72,
   "metadata": {
    "id": "9vK5lotDpfDF"
   },
   "outputs": [],
   "source": [
    "pipeline_config = pipeline_pb2.TrainEvalPipelineConfig()\n",
    "with tf.io.gfile.GFile(files['PIPELINE_CONFIG'], \"r\") as f:                                                                                                                                                                                                                     \n",
    "    proto_str = f.read()                                                                                                                                                                                                                                          \n",
    "    text_format.Merge(proto_str, pipeline_config)  "
   ]
  },
  {
   "cell_type": "code",
   "execution_count": 73,
   "metadata": {
    "id": "rP43Ph0JpfDG"
   },
   "outputs": [],
   "source": [
    "pipeline_config.model.ssd.num_classes = len(labels)\n",
    "pipeline_config.train_config.batch_size = 8\n",
    "pipeline_config.train_config.fine_tune_checkpoint = os.path.join(paths['PRETRAINED_MODEL_PATH'], PRETRAINED_MODEL_NAME, 'checkpoint', 'ckpt-0')\n",
    "pipeline_config.train_config.fine_tune_checkpoint_type = \"detection\"\n",
    "pipeline_config.train_input_reader.label_map_path= files['LABELMAP']\n",
    "pipeline_config.train_input_reader.tf_record_input_reader.input_path[:] = [os.path.join(paths['ANNOTATION_PATH'], 'train.record')]\n",
    "pipeline_config.eval_input_reader[0].label_map_path = files['LABELMAP']\n",
    "pipeline_config.eval_input_reader[0].tf_record_input_reader.input_path[:] = [os.path.join(paths['ANNOTATION_PATH'], 'test.record')]"
   ]
  },
  {
   "cell_type": "code",
   "execution_count": 74,
   "metadata": {},
   "outputs": [
    {
     "data": {
      "text/plain": [
       "model {\n",
       "  ssd {\n",
       "    num_classes: 10\n",
       "    image_resizer {\n",
       "      fixed_shape_resizer {\n",
       "        height: 320\n",
       "        width: 320\n",
       "      }\n",
       "    }\n",
       "    feature_extractor {\n",
       "      type: \"ssd_mobilenet_v2_fpn_keras\"\n",
       "      depth_multiplier: 1.0\n",
       "      min_depth: 16\n",
       "      conv_hyperparams {\n",
       "        regularizer {\n",
       "          l2_regularizer {\n",
       "            weight: 3.9999998989515007e-05\n",
       "          }\n",
       "        }\n",
       "        initializer {\n",
       "          random_normal_initializer {\n",
       "            mean: 0.0\n",
       "            stddev: 0.009999999776482582\n",
       "          }\n",
       "        }\n",
       "        activation: RELU_6\n",
       "        batch_norm {\n",
       "          decay: 0.996999979019165\n",
       "          scale: true\n",
       "          epsilon: 0.0010000000474974513\n",
       "        }\n",
       "      }\n",
       "      use_depthwise: true\n",
       "      override_base_feature_extractor_hyperparams: true\n",
       "      fpn {\n",
       "        min_level: 3\n",
       "        max_level: 7\n",
       "        additional_layer_depth: 128\n",
       "      }\n",
       "    }\n",
       "    box_coder {\n",
       "      faster_rcnn_box_coder {\n",
       "        y_scale: 10.0\n",
       "        x_scale: 10.0\n",
       "        height_scale: 5.0\n",
       "        width_scale: 5.0\n",
       "      }\n",
       "    }\n",
       "    matcher {\n",
       "      argmax_matcher {\n",
       "        matched_threshold: 0.5\n",
       "        unmatched_threshold: 0.5\n",
       "        ignore_thresholds: false\n",
       "        negatives_lower_than_unmatched: true\n",
       "        force_match_for_each_row: true\n",
       "        use_matmul_gather: true\n",
       "      }\n",
       "    }\n",
       "    similarity_calculator {\n",
       "      iou_similarity {\n",
       "      }\n",
       "    }\n",
       "    box_predictor {\n",
       "      weight_shared_convolutional_box_predictor {\n",
       "        conv_hyperparams {\n",
       "          regularizer {\n",
       "            l2_regularizer {\n",
       "              weight: 3.9999998989515007e-05\n",
       "            }\n",
       "          }\n",
       "          initializer {\n",
       "            random_normal_initializer {\n",
       "              mean: 0.0\n",
       "              stddev: 0.009999999776482582\n",
       "            }\n",
       "          }\n",
       "          activation: RELU_6\n",
       "          batch_norm {\n",
       "            decay: 0.996999979019165\n",
       "            scale: true\n",
       "            epsilon: 0.0010000000474974513\n",
       "          }\n",
       "        }\n",
       "        depth: 128\n",
       "        num_layers_before_predictor: 4\n",
       "        kernel_size: 3\n",
       "        class_prediction_bias_init: -4.599999904632568\n",
       "        share_prediction_tower: true\n",
       "        use_depthwise: true\n",
       "      }\n",
       "    }\n",
       "    anchor_generator {\n",
       "      multiscale_anchor_generator {\n",
       "        min_level: 3\n",
       "        max_level: 7\n",
       "        anchor_scale: 4.0\n",
       "        aspect_ratios: 1.0\n",
       "        aspect_ratios: 2.0\n",
       "        aspect_ratios: 0.5\n",
       "        scales_per_octave: 2\n",
       "      }\n",
       "    }\n",
       "    post_processing {\n",
       "      batch_non_max_suppression {\n",
       "        score_threshold: 9.99999993922529e-09\n",
       "        iou_threshold: 0.6000000238418579\n",
       "        max_detections_per_class: 100\n",
       "        max_total_detections: 100\n",
       "        use_static_shapes: false\n",
       "      }\n",
       "      score_converter: SIGMOID\n",
       "    }\n",
       "    normalize_loss_by_num_matches: true\n",
       "    loss {\n",
       "      localization_loss {\n",
       "        weighted_smooth_l1 {\n",
       "        }\n",
       "      }\n",
       "      classification_loss {\n",
       "        weighted_sigmoid_focal {\n",
       "          gamma: 2.0\n",
       "          alpha: 0.25\n",
       "        }\n",
       "      }\n",
       "      classification_weight: 1.0\n",
       "      localization_weight: 1.0\n",
       "    }\n",
       "    encode_background_as_zeros: true\n",
       "    normalize_loc_loss_by_codesize: true\n",
       "    inplace_batchnorm_update: true\n",
       "    freeze_batchnorm: false\n",
       "  }\n",
       "}\n",
       "train_config {\n",
       "  batch_size: 8\n",
       "  data_augmentation_options {\n",
       "    random_horizontal_flip {\n",
       "    }\n",
       "  }\n",
       "  data_augmentation_options {\n",
       "    random_crop_image {\n",
       "      min_object_covered: 0.0\n",
       "      min_aspect_ratio: 0.75\n",
       "      max_aspect_ratio: 3.0\n",
       "      min_area: 0.75\n",
       "      max_area: 1.0\n",
       "      overlap_thresh: 0.0\n",
       "    }\n",
       "  }\n",
       "  sync_replicas: true\n",
       "  optimizer {\n",
       "    momentum_optimizer {\n",
       "      learning_rate {\n",
       "        cosine_decay_learning_rate {\n",
       "          learning_rate_base: 0.07999999821186066\n",
       "          total_steps: 50000\n",
       "          warmup_learning_rate: 0.026666000485420227\n",
       "          warmup_steps: 1000\n",
       "        }\n",
       "      }\n",
       "      momentum_optimizer_value: 0.8999999761581421\n",
       "    }\n",
       "    use_moving_average: false\n",
       "  }\n",
       "  fine_tune_checkpoint: \"Tensorflow/workspace/pre-trained-models/ssd_mobilenet_v2_fpnlite_320x320_coco17_tpu-8/checkpoint/ckpt-0\"\n",
       "  num_steps: 50000\n",
       "  startup_delay_steps: 0.0\n",
       "  replicas_to_aggregate: 8\n",
       "  max_number_of_boxes: 100\n",
       "  unpad_groundtruth_tensors: false\n",
       "  fine_tune_checkpoint_type: \"detection\"\n",
       "  fine_tune_checkpoint_version: V2\n",
       "}\n",
       "train_input_reader {\n",
       "  label_map_path: \"Tensorflow/workspace/annotations/label_map.pbtxt\"\n",
       "  tf_record_input_reader {\n",
       "    input_path: \"Tensorflow/workspace/annotations/train.record\"\n",
       "  }\n",
       "}\n",
       "eval_config {\n",
       "  metrics_set: \"coco_detection_metrics\"\n",
       "  use_moving_averages: false\n",
       "}\n",
       "eval_input_reader {\n",
       "  label_map_path: \"Tensorflow/workspace/annotations/label_map.pbtxt\"\n",
       "  shuffle: false\n",
       "  num_epochs: 1\n",
       "  tf_record_input_reader {\n",
       "    input_path: \"Tensorflow/workspace/annotations/test.record\"\n",
       "  }\n",
       "}"
      ]
     },
     "execution_count": 74,
     "metadata": {},
     "output_type": "execute_result"
    }
   ],
   "source": [
    "pipeline_config"
   ]
  },
  {
   "cell_type": "code",
   "execution_count": 75,
   "metadata": {
    "id": "oJvfgwWqpfDG"
   },
   "outputs": [],
   "source": [
    "config_text = text_format.MessageToString(pipeline_config)                                                                                                                                                                                                        \n",
    "with tf.io.gfile.GFile(files['PIPELINE_CONFIG'], \"wb\") as f:                                                                                                                                                                                                                     \n",
    "    f.write(config_text)   "
   ]
  },
  {
   "cell_type": "markdown",
   "metadata": {
    "id": "Zr3ON7xMpfDG"
   },
   "source": [
    "# 6. Train the model"
   ]
  },
  {
   "cell_type": "code",
   "execution_count": 76,
   "metadata": {
    "id": "B-Y2UQmQpfDG"
   },
   "outputs": [],
   "source": [
    "TRAINING_SCRIPT = os.path.join(paths['APIMODEL_PATH'], 'research', 'object_detection', 'model_main_tf2.py')"
   ]
  },
  {
   "cell_type": "code",
   "execution_count": 77,
   "metadata": {},
   "outputs": [
    {
     "data": {
      "text/plain": [
       "'Tensorflow/workspace/models/my_ssd_mobilenet_v2_fpnlite_320x320_coco17_tpu-8'"
      ]
     },
     "execution_count": 77,
     "metadata": {},
     "output_type": "execute_result"
    }
   ],
   "source": [
    "paths['CHECKPOINT_PATH']"
   ]
  },
  {
   "cell_type": "code",
   "execution_count": 78,
   "metadata": {
    "id": "jMP2XDfQpfDH"
   },
   "outputs": [],
   "source": [
    "command = \"python3 {} --model_dir={} --pipeline_config_path={} --num_train_steps=2000\".format(TRAINING_SCRIPT, paths['CHECKPOINT_PATH'],files['PIPELINE_CONFIG'])"
   ]
  },
  {
   "cell_type": "code",
   "execution_count": 79,
   "metadata": {
    "colab": {
     "base_uri": "https://localhost:8080/"
    },
    "id": "A4OXXi-ApfDH",
    "outputId": "117a0e83-012b-466e-b7a6-ccaa349ac5ab"
   },
   "outputs": [
    {
     "name": "stdout",
     "output_type": "stream",
     "text": [
      "python3 Tensorflow/models/research/object_detection/model_main_tf2.py --model_dir=Tensorflow/workspace/models/my_ssd_mobilenet_v2_fpnlite_320x320_coco17_tpu-8 --pipeline_config_path=Tensorflow/workspace/models/my_ssd_mobilenet_v2_fpnlite_320x320_coco17_tpu-8/pipeline.config --num_train_steps=2000\n"
     ]
    }
   ],
   "source": [
    "print(command)"
   ]
  },
  {
   "cell_type": "code",
   "execution_count": null,
   "metadata": {
    "colab": {
     "base_uri": "https://localhost:8080/"
    },
    "id": "i3ZsJR-qpfDH",
    "outputId": "cabec5e1-45e6-4f2f-d9cf-297d9c1d0225"
   },
   "outputs": [],
   "source": [
    "!{command}"
   ]
  },
  {
   "cell_type": "markdown",
   "metadata": {
    "id": "4_YRZu7npfDH"
   },
   "source": [
    "# 7. Evaluate the Model"
   ]
  },
  {
   "cell_type": "code",
   "execution_count": 80,
   "metadata": {
    "id": "80L7-fdPpfDH"
   },
   "outputs": [],
   "source": [
    "command = \"python3 {} --model_dir={} --pipeline_config_path={} --checkpoint_dir={}\".format(TRAINING_SCRIPT, paths['CHECKPOINT_PATH'],files['PIPELINE_CONFIG'], paths['CHECKPOINT_PATH'])"
   ]
  },
  {
   "cell_type": "code",
   "execution_count": 81,
   "metadata": {
    "colab": {
     "base_uri": "https://localhost:8080/"
    },
    "id": "lYsgEPx9pfDH",
    "outputId": "8632d48b-91d2-45d9-bcb8-c1b172bf6eed"
   },
   "outputs": [
    {
     "name": "stdout",
     "output_type": "stream",
     "text": [
      "python3 Tensorflow/models/research/object_detection/model_main_tf2.py --model_dir=Tensorflow/workspace/models/my_ssd_mobilenet_v2_fpnlite_320x320_coco17_tpu-8 --pipeline_config_path=Tensorflow/workspace/models/my_ssd_mobilenet_v2_fpnlite_320x320_coco17_tpu-8/pipeline.config --checkpoint_dir=Tensorflow/workspace/models/my_ssd_mobilenet_v2_fpnlite_320x320_coco17_tpu-8\n"
     ]
    }
   ],
   "source": [
    "print(command)"
   ]
  },
  {
   "cell_type": "code",
   "execution_count": null,
   "metadata": {
    "id": "lqTV2jGBpfDH"
   },
   "outputs": [],
   "source": [
    "!{command}"
   ]
  },
  {
   "cell_type": "markdown",
   "metadata": {
    "id": "orvRk02UpfDI"
   },
   "source": [
    "# 8. Load Train Model From Checkpoint"
   ]
  },
  {
   "cell_type": "code",
   "execution_count": 82,
   "metadata": {
    "id": "8TYk4_oIpfDI"
   },
   "outputs": [
    {
     "name": "stderr",
     "output_type": "stream",
     "text": [
      "/home/uwu/.local/lib/python3.10/site-packages/tensorflow_addons/utils/ensure_tf_install.py:53: UserWarning: Tensorflow Addons supports using Python ops for all Tensorflow versions above or equal to 2.9.0 and strictly below 2.12.0 (nightly versions are not supported). \n",
      " The versions of TensorFlow you are currently using is 2.12.0 and is not supported. \n",
      "Some things might work, some things might not.\n",
      "If you were to encounter a bug, do not file an issue.\n",
      "If you want to make sure you're using a tested and supported configuration, either change the TensorFlow version or the TensorFlow Addons's version. \n",
      "You can find the compatibility matrix in TensorFlow Addon's readme:\n",
      "https://github.com/tensorflow/addons\n",
      "  warnings.warn(\n"
     ]
    }
   ],
   "source": [
    "import os\n",
    "import tensorflow as tf\n",
    "from object_detection.utils import label_map_util\n",
    "from object_detection.utils import visualization_utils as viz_utils\n",
    "from object_detection.builders import model_builder\n",
    "from object_detection.utils import config_util"
   ]
  },
  {
   "cell_type": "code",
   "execution_count": 106,
   "metadata": {
    "id": "tDnQg-cYpfDI"
   },
   "outputs": [],
   "source": [
    "# Load pipeline config and build a detection model\n",
    "configs = config_util.get_configs_from_pipeline_file(files['PIPELINE_CONFIG'])\n",
    "detection_model = model_builder.build(model_config=configs['model'], is_training=False)\n",
    "\n",
    "# Restore checkpoint\n",
    "ckpt = tf.compat.v2.train.Checkpoint(model=detection_model)\n",
    "ckpt.restore(os.path.join(paths['CHECKPOINT_PATH'], 'ckpt-3')).expect_partial()\n",
    "# print(ckpt)\n",
    "\n",
    "\n",
    "# @tf.function\n",
    "def detect_fn(image):\n",
    "    image, shapes = detection_model.preprocess(image)\n",
    "    prediction_dict = detection_model.predict(image, shapes)\n",
    "    detections = detection_model.postprocess(prediction_dict, shapes)\n",
    "    return detections"
   ]
  },
  {
   "cell_type": "markdown",
   "metadata": {
    "id": "0EmsmbBZpfDI"
   },
   "source": [
    "# 9. Detect from an Image"
   ]
  },
  {
   "cell_type": "code",
   "execution_count": 107,
   "metadata": {
    "id": "Y_MKiuZ4pfDI"
   },
   "outputs": [],
   "source": [
    "import cv2 \n",
    "import numpy as np\n",
    "import urllib\n",
    "from matplotlib import pyplot as plt\n",
    "%matplotlib inline"
   ]
  },
  {
   "cell_type": "code",
   "execution_count": 108,
   "metadata": {
    "id": "cBDbIhNapfDI"
   },
   "outputs": [
    {
     "data": {
      "text/plain": [
       "{1: {'id': 1, 'name': 'Button'},\n",
       " 2: {'id': 2, 'name': 'CheckBox'},\n",
       " 3: {'id': 3, 'name': 'Heading'},\n",
       " 4: {'id': 4, 'name': 'Image'},\n",
       " 5: {'id': 5, 'name': 'Label'},\n",
       " 6: {'id': 6, 'name': 'Link'},\n",
       " 7: {'id': 7, 'name': 'Paragraph'},\n",
       " 8: {'id': 8, 'name': 'RadioButton'},\n",
       " 9: {'id': 9, 'name': 'Select'},\n",
       " 10: {'id': 10, 'name': 'TextBox'}}"
      ]
     },
     "execution_count": 108,
     "metadata": {},
     "output_type": "execute_result"
    }
   ],
   "source": [
    "category_index = label_map_util.create_category_index_from_labelmap(files['LABELMAP'])\n",
    "category_index"
   ]
  },
  {
   "cell_type": "code",
   "execution_count": 113,
   "metadata": {
    "id": "Lx3crOhOzITB"
   },
   "outputs": [],
   "source": [
    "IMAGE_PATH = os.path.join(paths['IMAGE_PATH'], 'test','e6b36cb6-83a0-4865-8b33-52822722ef50.png')\n",
    "\n",
    "# URL = 'https://s3.gomedia.us/wp-content/uploads/2018/02/Sketch-5.png'\n",
    "# req = urllib.request.urlopen(URL)\n",
    "# arr = np.asarray(bytearray(req.read()), dtype=np.uint8)\n"
   ]
  },
  {
   "cell_type": "code",
   "execution_count": 114,
   "metadata": {
    "colab": {
     "base_uri": "https://localhost:8080/",
     "height": 269
    },
    "id": "Tpzn1SMry1yK",
    "outputId": "c392a2c5-10fe-4fc4-9998-a1d4c7db2bd3"
   },
   "outputs": [
    {
     "name": "stdout",
     "output_type": "stream",
     "text": [
      "(1600, 783, 3)\n"
     ]
    },
    {
     "data": {
      "image/png": "[encoded data removed]",
      "text/plain": [
       "<Figure size 640x480 with 1 Axes>"
      ]
     },
     "metadata": {},
     "output_type": "display_data"
    }
   ],
   "source": [
    "#from url\n",
    "# 'Load it as it is'\n",
    "# img = cv2.imdecode(arr, -1,) \n",
    "# # print(len(img))\n",
    "# img = cv2.cvtColor(img,cv2.COLOR_BGR2GRAY)\n",
    "# print(img)\n",
    "\n",
    "\n",
    "#locale\n",
    "img = cv2.imread(IMAGE_PATH)\n",
    "\n",
    "\n",
    "# plt.imshow(img)\n",
    "# plt.show()\n",
    "\n",
    "image_np = np.array(img)\n",
    "# image_np = np.expand_dims(image_np, 2)\n",
    "\n",
    "print(image_np.shape)\n",
    "\n",
    "input_tensor = tf.convert_to_tensor(np.expand_dims(image_np, 0), dtype=tf.float32)\n",
    "\n",
    "detections = detect_fn(input_tensor)\n",
    "\n",
    "\n",
    "num_detections = int(detections.pop('num_detections'))\n",
    "detections = {key: value[0, :num_detections].numpy()\n",
    "              for key, value in detections.items()}\n",
    "detections['num_detections'] = num_detections\n",
    "\n",
    "# detection_classes should be ints.\n",
    "detections['detection_classes'] = detections['detection_classes'].astype(np.int64)\n",
    "\n",
    "label_id_offset = 1\n",
    "image_np_with_detections = image_np.copy()\n",
    "\n",
    "viz_utils.visualize_boxes_and_labels_on_image_array(\n",
    "            image_np_with_detections,\n",
    "            detections['detection_boxes'],\n",
    "            detections['detection_classes']+label_id_offset,\n",
    "            detections['detection_scores'],\n",
    "            category_index,\n",
    "            use_normalized_coordinates=True,\n",
    "            max_boxes_to_draw=5,\n",
    "            min_score_thresh=.5,\n",
    "            agnostic_mode=False)\n",
    "\n",
    "cv2.imwrite('1.jpg',image_np_with_detections)\n",
    "# cv2.imshow('frame', cv2.cvtColor(image_np_with_detections, cv2.COLOR_BGR2RGB))\n",
    "\n",
    "# cap.release()\n",
    "# cv2.destroyAllWindows()\n",
    "\n",
    "# print(detections.keys())\n",
    "plt.imshow(cv2.cvtColor(image_np_with_detections, cv2.COLOR_BGR2RGB))\n",
    "plt.show()"
   ]
  },
  {
   "cell_type": "markdown",
   "metadata": {
    "id": "IsNAaYAo0WVL"
   },
   "source": [
    "# 10. Real Time Detections from your Webcam"
   ]
  },
  {
   "cell_type": "code",
   "execution_count": null,
   "metadata": {},
   "outputs": [],
   "source": [
    "# !pip uninstall opencv-python-headless -y"
   ]
  },
  {
   "cell_type": "code",
   "execution_count": null,
   "metadata": {
    "id": "o_grs6OGpfDJ"
   },
   "outputs": [],
   "source": [
    "cap = cv2.VideoCapture(0)\n",
    "width = int(cap.get(cv2.CAP_PROP_FRAME_WIDTH))\n",
    "height = int(cap.get(cv2.CAP_PROP_FRAME_HEIGHT))\n",
    "\n",
    "while cap.isOpened(): \n",
    "    ret, frame = cap.read()\n",
    "    image_np = np.array(frame)\n",
    "    \n",
    "    input_tensor = tf.convert_to_tensor(np.expand_dims(image_np, 0), dtype=tf.float32)\n",
    "    detections = detect_fn(input_tensor)\n",
    "    \n",
    "    num_detections = int(detections.pop('num_detections'))\n",
    "    detections = {key: value[0, :num_detections].numpy()\n",
    "                  for key, value in detections.items()}\n",
    "    detections['num_detections'] = num_detections\n",
    "\n",
    "    # detection_classes should be ints.\n",
    "    detections['detection_classes'] = detections['detection_classes'].astype(np.int64)\n",
    "\n",
    "    label_id_offset = 1\n",
    "    image_np_with_detections = image_np.copy()\n",
    "\n",
    "    viz_utils.visualize_boxes_and_labels_on_image_array(\n",
    "                image_np_with_detections,\n",
    "                detections['detection_boxes'],\n",
    "                detections['detection_classes']+label_id_offset,\n",
    "                detections['detection_scores'],\n",
    "                category_index,\n",
    "                use_normalized_coordinates=True,\n",
    "                max_boxes_to_draw=5,\n",
    "                min_score_thresh=.8,\n",
    "                agnostic_mode=False)\n",
    "\n",
    "    cv2.imshow('object detection',  cv2.resize(image_np_with_detections, (800, 600)))\n",
    "    \n",
    "    if cv2.waitKey(10) & 0xFF == ord('q'):\n",
    "        cap.release()\n",
    "        cv2.destroyAllWindows()\n",
    "        break"
   ]
  },
  {
   "cell_type": "markdown",
   "metadata": {
    "id": "rzlM4jt0pfDJ"
   },
   "source": [
    "# 10. Freezing the Graph"
   ]
  },
  {
   "cell_type": "code",
   "execution_count": null,
   "metadata": {
    "id": "n4olHB2npfDJ"
   },
   "outputs": [],
   "source": [
    "FREEZE_SCRIPT = os.path.join(paths['APIMODEL_PATH'], 'research', 'object_detection', 'exporter_main_v2.py ')"
   ]
  },
  {
   "cell_type": "code",
   "execution_count": null,
   "metadata": {
    "id": "0AjO93QDpfDJ"
   },
   "outputs": [],
   "source": [
    "command = \"python {} --input_type=image_tensor --pipeline_config_path={} --trained_checkpoint_dir={} --output_directory={}\".format(FREEZE_SCRIPT ,files['PIPELINE_CONFIG'], paths['CHECKPOINT_PATH'], paths['OUTPUT_PATH'])"
   ]
  },
  {
   "cell_type": "code",
   "execution_count": null,
   "metadata": {
    "colab": {
     "base_uri": "https://localhost:8080/"
    },
    "id": "F6Lsp3tCpfDJ",
    "outputId": "c3828529-bf06-4df5-d7f3-145890ec3edd"
   },
   "outputs": [],
   "source": [
    "print(command)"
   ]
  },
  {
   "cell_type": "code",
   "execution_count": null,
   "metadata": {
    "colab": {
     "base_uri": "https://localhost:8080/"
    },
    "id": "1Sw1ULgHpfDJ",
    "outputId": "6fd441e1-9fc9-4889-d072-3395c21e40b6"
   },
   "outputs": [],
   "source": [
    "!{command}"
   ]
  },
  {
   "cell_type": "markdown",
   "metadata": {
    "id": "wTPmdqaXpfDK"
   },
   "source": [
    "# 11. Conversion to TFJS"
   ]
  },
  {
   "cell_type": "code",
   "execution_count": null,
   "metadata": {
    "colab": {
     "base_uri": "https://localhost:8080/"
    },
    "id": "gZ6UzY_fpfDK",
    "outputId": "0c84722e-1c2b-4002-d857-80827ade828a",
    "scrolled": true
   },
   "outputs": [],
   "source": [
    "!pip install tensorflowjs"
   ]
  },
  {
   "cell_type": "code",
   "execution_count": null,
   "metadata": {
    "id": "0oxbVynHpfDK"
   },
   "outputs": [],
   "source": [
    "command = \"tensorflowjs_converter --input_format=tf_saved_model --output_node_names='detection_boxes,detection_classes,detection_features,detection_multiclass_scores,detection_scores,num_detections,raw_detection_boxes,raw_detection_scores' --output_format=tfjs_graph_model --signature_name=serving_default {} {}\".format(os.path.join(paths['OUTPUT_PATH'], 'saved_model'), paths['TFJS_PATH'])"
   ]
  },
  {
   "cell_type": "code",
   "execution_count": null,
   "metadata": {
    "colab": {
     "base_uri": "https://localhost:8080/"
    },
    "id": "DB2AGNmJpfDK",
    "outputId": "fbc9f747-f511-47e8-df8f-5ea65cef0374"
   },
   "outputs": [],
   "source": [
    "print(command)"
   ]
  },
  {
   "cell_type": "code",
   "execution_count": null,
   "metadata": {
    "colab": {
     "base_uri": "https://localhost:8080/"
    },
    "id": "K7rfT4-hpfDK",
    "outputId": "532707fd-6feb-4bc6-84a3-325b5d16303c"
   },
   "outputs": [],
   "source": [
    "!{command}"
   ]
  },
  {
   "cell_type": "code",
   "execution_count": null,
   "metadata": {
    "id": "o8_hm-itpfDK"
   },
   "outputs": [],
   "source": [
    "# Test Code: https://github.com/nicknochnack/RealTimeSignLanguageDetectionwithTFJS"
   ]
  },
  {
   "cell_type": "markdown",
   "metadata": {
    "id": "VtUw73FHpfDK"
   },
   "source": [
    "# 12. Conversion to TFLite"
   ]
  },
  {
   "cell_type": "code",
   "execution_count": null,
   "metadata": {
    "id": "XviMtewLpfDK"
   },
   "outputs": [],
   "source": [
    "TFLITE_SCRIPT = os.path.join(paths['APIMODEL_PATH'], 'research', 'object_detection', 'export_tflite_graph_tf2.py ')"
   ]
  },
  {
   "cell_type": "code",
   "execution_count": null,
   "metadata": {
    "id": "us86cjC4pfDL"
   },
   "outputs": [],
   "source": [
    "command = \"python {} --pipeline_config_path={} --trained_checkpoint_dir={} --output_directory={}\".format(TFLITE_SCRIPT ,files['PIPELINE_CONFIG'], paths['CHECKPOINT_PATH'], paths['TFLITE_PATH'])"
   ]
  },
  {
   "cell_type": "code",
   "execution_count": null,
   "metadata": {
    "colab": {
     "base_uri": "https://localhost:8080/"
    },
    "id": "n1r5YO3rpfDL",
    "outputId": "5fcdf7a4-eee2-4365-f1ca-1751968379ea"
   },
   "outputs": [],
   "source": [
    "print(command)"
   ]
  },
  {
   "cell_type": "code",
   "execution_count": null,
   "metadata": {
    "colab": {
     "base_uri": "https://localhost:8080/"
    },
    "id": "I-xWpHN8pfDL",
    "outputId": "7f6bacd8-d077-43b5-c131-5b081fba24a4"
   },
   "outputs": [],
   "source": [
    "!{command}"
   ]
  },
  {
   "cell_type": "code",
   "execution_count": null,
   "metadata": {
    "id": "iJfYMbN6pfDL"
   },
   "outputs": [],
   "source": [
    "FROZEN_TFLITE_PATH = os.path.join(paths['TFLITE_PATH'], 'saved_model')\n",
    "TFLITE_MODEL = os.path.join(paths['TFLITE_PATH'], 'saved_model', 'detect.tflite')"
   ]
  },
  {
   "cell_type": "code",
   "execution_count": null,
   "metadata": {},
   "outputs": [],
   "source": [
    "command = \"tflite_convert \\\n",
    "--saved_model_dir={} \\\n",
    "--output_file={} \\\n",
    "--input_shapes=1,300,300,3 \\\n",
    "--input_arrays=normalized_input_image_tensor \\\n",
    "--output_arrays='TFLite_Detection_PostProcess','TFLite_Detection_PostProcess:1','TFLite_Detection_PostProcess:2','TFLite_Detection_PostProcess:3' \\\n",
    "--inference_type=FLOAT \\\n",
    "--allow_custom_ops\".format(FROZEN_TFLITE_PATH, TFLITE_MODEL, )"
   ]
  },
  {
   "cell_type": "code",
   "execution_count": null,
   "metadata": {
    "colab": {
     "base_uri": "https://localhost:8080/"
    },
    "id": "E8GwUeoFpfDL",
    "outputId": "fac43ea4-cc85-471b-a362-e994b06fd583"
   },
   "outputs": [],
   "source": [
    "print(command)"
   ]
  },
  {
   "cell_type": "code",
   "execution_count": null,
   "metadata": {
    "colab": {
     "base_uri": "https://localhost:8080/"
    },
    "id": "Nbd7gqHMpfDL",
    "outputId": "7c8fe6d5-2415-4641-8548-39d425c202f7"
   },
   "outputs": [],
   "source": [
    "!{command}"
   ]
  },
  {
   "cell_type": "markdown",
   "metadata": {
    "id": "5NQqZRdA21Uc"
   },
   "source": [
    "# 13. Zip and Export Models "
   ]
  },
  {
   "cell_type": "code",
   "execution_count": null,
   "metadata": {
    "id": "tTVTGCQp2ZJJ"
   },
   "outputs": [],
   "source": [
    "!tar -czf models.tar.gz {paths['CHECKPOINT_PATH']}"
   ]
  },
  {
   "cell_type": "code",
   "execution_count": null,
   "metadata": {
    "colab": {
     "base_uri": "https://localhost:8080/"
    },
    "id": "whShhB0x3PYJ",
    "outputId": "b773201d-35c9-46a8-b893-4a76bd4d5d97"
   },
   "outputs": [],
   "source": [
    "from google.colab import drive\n",
    "drive.mount('/content/drive')"
   ]
  }
 ],
 "metadata": {
  "accelerator": "GPU",
  "colab": {
   "name": "3. Training and Detection.ipynb",
   "provenance": []
  },
  "kernelspec": {
   "display_name": "Python 3 (ipykernel)",
   "language": "python",
   "name": "python3"
  },
  "language_info": {
   "codemirror_mode": {
    "name": "ipython",
    "version": 3
   },
   "file_extension": ".py",
   "mimetype": "text/x-python",
   "name": "python",
   "nbconvert_exporter": "python",
   "pygments_lexer": "ipython3",
   "version": "3.10.10"
  },
  "vscode": {
   "interpreter": {
    "hash": "767d51c1340bd893661ea55ea3124f6de3c7a262a8b4abca0554b478b1e2ff90"
   }
  }
 },
 "nbformat": 4,
 "nbformat_minor": 1
}
